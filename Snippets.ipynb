{
  "nbformat": 4,
  "nbformat_minor": 0,
  "metadata": {
    "colab": {
      "name": "Snippets.ipynb",
      "provenance": [],
      "collapsed_sections": [],
      "toc_visible": true,
      "authorship_tag": "ABX9TyMn3URc4+GmJmDsTZ5W0B40",
      "include_colab_link": true
    },
    "kernelspec": {
      "name": "python3",
      "display_name": "Python 3"
    },
    "widgets": {
      "application/vnd.jupyter.widget-state+json": {
        "28919753beb640999aa207d65ef3e6cf": {
          "model_module": "@jupyter-widgets/controls",
          "model_name": "HBoxModel",
          "state": {
            "_view_name": "HBoxView",
            "_dom_classes": [],
            "_model_name": "HBoxModel",
            "_view_module": "@jupyter-widgets/controls",
            "_model_module_version": "1.5.0",
            "_view_count": null,
            "_view_module_version": "1.5.0",
            "box_style": "",
            "layout": "IPY_MODEL_58044b35430843e0aa9e1473c0f14448",
            "_model_module": "@jupyter-widgets/controls",
            "children": [
              "IPY_MODEL_deef54dce6f141cdbb2b689e5d382722",
              "IPY_MODEL_b0383ef183f14677be1e421805b8091f"
            ]
          }
        },
        "58044b35430843e0aa9e1473c0f14448": {
          "model_module": "@jupyter-widgets/base",
          "model_name": "LayoutModel",
          "state": {
            "_view_name": "LayoutView",
            "grid_template_rows": null,
            "right": null,
            "justify_content": null,
            "_view_module": "@jupyter-widgets/base",
            "overflow": null,
            "_model_module_version": "1.2.0",
            "_view_count": null,
            "flex_flow": null,
            "width": null,
            "min_width": null,
            "border": null,
            "align_items": null,
            "bottom": null,
            "_model_module": "@jupyter-widgets/base",
            "top": null,
            "grid_column": null,
            "overflow_y": null,
            "overflow_x": null,
            "grid_auto_flow": null,
            "grid_area": null,
            "grid_template_columns": null,
            "flex": null,
            "_model_name": "LayoutModel",
            "justify_items": null,
            "grid_row": null,
            "max_height": null,
            "align_content": null,
            "visibility": null,
            "align_self": null,
            "height": null,
            "min_height": null,
            "padding": null,
            "grid_auto_rows": null,
            "grid_gap": null,
            "max_width": null,
            "order": null,
            "_view_module_version": "1.2.0",
            "grid_template_areas": null,
            "object_position": null,
            "object_fit": null,
            "grid_auto_columns": null,
            "margin": null,
            "display": null,
            "left": null
          }
        },
        "deef54dce6f141cdbb2b689e5d382722": {
          "model_module": "@jupyter-widgets/controls",
          "model_name": "FloatProgressModel",
          "state": {
            "_view_name": "ProgressView",
            "style": "IPY_MODEL_8cb390f51e3c45a19a1292136ea3786e",
            "_dom_classes": [],
            "description": "loop1: 100%",
            "_model_name": "FloatProgressModel",
            "bar_style": "success",
            "max": 5,
            "_view_module": "@jupyter-widgets/controls",
            "_model_module_version": "1.5.0",
            "value": 5,
            "_view_count": null,
            "_view_module_version": "1.5.0",
            "orientation": "horizontal",
            "min": 0,
            "description_tooltip": null,
            "_model_module": "@jupyter-widgets/controls",
            "layout": "IPY_MODEL_120b510f027840a7a8814dcfdd6bc3b7"
          }
        },
        "b0383ef183f14677be1e421805b8091f": {
          "model_module": "@jupyter-widgets/controls",
          "model_name": "HTMLModel",
          "state": {
            "_view_name": "HTMLView",
            "style": "IPY_MODEL_bb07f9b0a81941999cef0632dfbd7906",
            "_dom_classes": [],
            "description": "",
            "_model_name": "HTMLModel",
            "placeholder": "​",
            "_view_module": "@jupyter-widgets/controls",
            "_model_module_version": "1.5.0",
            "value": " 5/5 [00:15&lt;00:00,  3.10s/it, #iter=4, random=Hi]",
            "_view_count": null,
            "_view_module_version": "1.5.0",
            "description_tooltip": null,
            "_model_module": "@jupyter-widgets/controls",
            "layout": "IPY_MODEL_baea0f2bce2c4e68b9942c4a6269a245"
          }
        },
        "8cb390f51e3c45a19a1292136ea3786e": {
          "model_module": "@jupyter-widgets/controls",
          "model_name": "ProgressStyleModel",
          "state": {
            "_view_name": "StyleView",
            "_model_name": "ProgressStyleModel",
            "description_width": "initial",
            "_view_module": "@jupyter-widgets/base",
            "_model_module_version": "1.5.0",
            "_view_count": null,
            "_view_module_version": "1.2.0",
            "bar_color": null,
            "_model_module": "@jupyter-widgets/controls"
          }
        },
        "120b510f027840a7a8814dcfdd6bc3b7": {
          "model_module": "@jupyter-widgets/base",
          "model_name": "LayoutModel",
          "state": {
            "_view_name": "LayoutView",
            "grid_template_rows": null,
            "right": null,
            "justify_content": null,
            "_view_module": "@jupyter-widgets/base",
            "overflow": null,
            "_model_module_version": "1.2.0",
            "_view_count": null,
            "flex_flow": null,
            "width": null,
            "min_width": null,
            "border": null,
            "align_items": null,
            "bottom": null,
            "_model_module": "@jupyter-widgets/base",
            "top": null,
            "grid_column": null,
            "overflow_y": null,
            "overflow_x": null,
            "grid_auto_flow": null,
            "grid_area": null,
            "grid_template_columns": null,
            "flex": null,
            "_model_name": "LayoutModel",
            "justify_items": null,
            "grid_row": null,
            "max_height": null,
            "align_content": null,
            "visibility": null,
            "align_self": null,
            "height": null,
            "min_height": null,
            "padding": null,
            "grid_auto_rows": null,
            "grid_gap": null,
            "max_width": null,
            "order": null,
            "_view_module_version": "1.2.0",
            "grid_template_areas": null,
            "object_position": null,
            "object_fit": null,
            "grid_auto_columns": null,
            "margin": null,
            "display": null,
            "left": null
          }
        },
        "bb07f9b0a81941999cef0632dfbd7906": {
          "model_module": "@jupyter-widgets/controls",
          "model_name": "DescriptionStyleModel",
          "state": {
            "_view_name": "StyleView",
            "_model_name": "DescriptionStyleModel",
            "description_width": "",
            "_view_module": "@jupyter-widgets/base",
            "_model_module_version": "1.5.0",
            "_view_count": null,
            "_view_module_version": "1.2.0",
            "_model_module": "@jupyter-widgets/controls"
          }
        },
        "baea0f2bce2c4e68b9942c4a6269a245": {
          "model_module": "@jupyter-widgets/base",
          "model_name": "LayoutModel",
          "state": {
            "_view_name": "LayoutView",
            "grid_template_rows": null,
            "right": null,
            "justify_content": null,
            "_view_module": "@jupyter-widgets/base",
            "overflow": null,
            "_model_module_version": "1.2.0",
            "_view_count": null,
            "flex_flow": null,
            "width": null,
            "min_width": null,
            "border": null,
            "align_items": null,
            "bottom": null,
            "_model_module": "@jupyter-widgets/base",
            "top": null,
            "grid_column": null,
            "overflow_y": null,
            "overflow_x": null,
            "grid_auto_flow": null,
            "grid_area": null,
            "grid_template_columns": null,
            "flex": null,
            "_model_name": "LayoutModel",
            "justify_items": null,
            "grid_row": null,
            "max_height": null,
            "align_content": null,
            "visibility": null,
            "align_self": null,
            "height": null,
            "min_height": null,
            "padding": null,
            "grid_auto_rows": null,
            "grid_gap": null,
            "max_width": null,
            "order": null,
            "_view_module_version": "1.2.0",
            "grid_template_areas": null,
            "object_position": null,
            "object_fit": null,
            "grid_auto_columns": null,
            "margin": null,
            "display": null,
            "left": null
          }
        },
        "275f292b3d9b44e5aee674224f1d5617": {
          "model_module": "@jupyter-widgets/controls",
          "model_name": "HBoxModel",
          "state": {
            "_view_name": "HBoxView",
            "_dom_classes": [],
            "_model_name": "HBoxModel",
            "_view_module": "@jupyter-widgets/controls",
            "_model_module_version": "1.5.0",
            "_view_count": null,
            "_view_module_version": "1.5.0",
            "box_style": "",
            "layout": "IPY_MODEL_8d7d081238b94b7a8c478c943c1b6795",
            "_model_module": "@jupyter-widgets/controls",
            "children": [
              "IPY_MODEL_8e2af692056d41e099654c85e1f234bf",
              "IPY_MODEL_27035bf4e25a4af796370d66b99a6e1e"
            ]
          }
        },
        "8d7d081238b94b7a8c478c943c1b6795": {
          "model_module": "@jupyter-widgets/base",
          "model_name": "LayoutModel",
          "state": {
            "_view_name": "LayoutView",
            "grid_template_rows": null,
            "right": null,
            "justify_content": null,
            "_view_module": "@jupyter-widgets/base",
            "overflow": null,
            "_model_module_version": "1.2.0",
            "_view_count": null,
            "flex_flow": null,
            "width": null,
            "min_width": null,
            "border": null,
            "align_items": null,
            "bottom": null,
            "_model_module": "@jupyter-widgets/base",
            "top": null,
            "grid_column": null,
            "overflow_y": null,
            "overflow_x": null,
            "grid_auto_flow": null,
            "grid_area": null,
            "grid_template_columns": null,
            "flex": null,
            "_model_name": "LayoutModel",
            "justify_items": null,
            "grid_row": null,
            "max_height": null,
            "align_content": null,
            "visibility": null,
            "align_self": null,
            "height": null,
            "min_height": null,
            "padding": null,
            "grid_auto_rows": null,
            "grid_gap": null,
            "max_width": null,
            "order": null,
            "_view_module_version": "1.2.0",
            "grid_template_areas": null,
            "object_position": null,
            "object_fit": null,
            "grid_auto_columns": null,
            "margin": null,
            "display": null,
            "left": null
          }
        },
        "8e2af692056d41e099654c85e1f234bf": {
          "model_module": "@jupyter-widgets/controls",
          "model_name": "FloatProgressModel",
          "state": {
            "_view_name": "ProgressView",
            "style": "IPY_MODEL_a797bdc1667c4c3fbe610fc46b5eccba",
            "_dom_classes": [],
            "description": "100%",
            "_model_name": "FloatProgressModel",
            "bar_style": "",
            "max": 3,
            "_view_module": "@jupyter-widgets/controls",
            "_model_module_version": "1.5.0",
            "value": 3,
            "_view_count": null,
            "_view_module_version": "1.5.0",
            "orientation": "horizontal",
            "min": 0,
            "description_tooltip": null,
            "_model_module": "@jupyter-widgets/controls",
            "layout": "IPY_MODEL_e64cf1660f75419494d8508670e83e98"
          }
        },
        "27035bf4e25a4af796370d66b99a6e1e": {
          "model_module": "@jupyter-widgets/controls",
          "model_name": "HTMLModel",
          "state": {
            "_view_name": "HTMLView",
            "style": "IPY_MODEL_d08f688f59b344b4a36db4ecbe5f7ce6",
            "_dom_classes": [],
            "description": "",
            "_model_name": "HTMLModel",
            "placeholder": "​",
            "_view_module": "@jupyter-widgets/controls",
            "_model_module_version": "1.5.0",
            "value": " 3/3 [00:03&lt;00:00,  1.03s/it, text]",
            "_view_count": null,
            "_view_module_version": "1.5.0",
            "description_tooltip": null,
            "_model_module": "@jupyter-widgets/controls",
            "layout": "IPY_MODEL_8191d62d76514dd48afe9ebc36aab207"
          }
        },
        "a797bdc1667c4c3fbe610fc46b5eccba": {
          "model_module": "@jupyter-widgets/controls",
          "model_name": "ProgressStyleModel",
          "state": {
            "_view_name": "StyleView",
            "_model_name": "ProgressStyleModel",
            "description_width": "initial",
            "_view_module": "@jupyter-widgets/base",
            "_model_module_version": "1.5.0",
            "_view_count": null,
            "_view_module_version": "1.2.0",
            "bar_color": null,
            "_model_module": "@jupyter-widgets/controls"
          }
        },
        "e64cf1660f75419494d8508670e83e98": {
          "model_module": "@jupyter-widgets/base",
          "model_name": "LayoutModel",
          "state": {
            "_view_name": "LayoutView",
            "grid_template_rows": null,
            "right": null,
            "justify_content": null,
            "_view_module": "@jupyter-widgets/base",
            "overflow": null,
            "_model_module_version": "1.2.0",
            "_view_count": null,
            "flex_flow": null,
            "width": null,
            "min_width": null,
            "border": null,
            "align_items": null,
            "bottom": null,
            "_model_module": "@jupyter-widgets/base",
            "top": null,
            "grid_column": null,
            "overflow_y": null,
            "overflow_x": null,
            "grid_auto_flow": null,
            "grid_area": null,
            "grid_template_columns": null,
            "flex": null,
            "_model_name": "LayoutModel",
            "justify_items": null,
            "grid_row": null,
            "max_height": null,
            "align_content": null,
            "visibility": null,
            "align_self": null,
            "height": null,
            "min_height": null,
            "padding": null,
            "grid_auto_rows": null,
            "grid_gap": null,
            "max_width": null,
            "order": null,
            "_view_module_version": "1.2.0",
            "grid_template_areas": null,
            "object_position": null,
            "object_fit": null,
            "grid_auto_columns": null,
            "margin": null,
            "display": null,
            "left": null
          }
        },
        "d08f688f59b344b4a36db4ecbe5f7ce6": {
          "model_module": "@jupyter-widgets/controls",
          "model_name": "DescriptionStyleModel",
          "state": {
            "_view_name": "StyleView",
            "_model_name": "DescriptionStyleModel",
            "description_width": "",
            "_view_module": "@jupyter-widgets/base",
            "_model_module_version": "1.5.0",
            "_view_count": null,
            "_view_module_version": "1.2.0",
            "_model_module": "@jupyter-widgets/controls"
          }
        },
        "8191d62d76514dd48afe9ebc36aab207": {
          "model_module": "@jupyter-widgets/base",
          "model_name": "LayoutModel",
          "state": {
            "_view_name": "LayoutView",
            "grid_template_rows": null,
            "right": null,
            "justify_content": null,
            "_view_module": "@jupyter-widgets/base",
            "overflow": null,
            "_model_module_version": "1.2.0",
            "_view_count": null,
            "flex_flow": null,
            "width": null,
            "min_width": null,
            "border": null,
            "align_items": null,
            "bottom": null,
            "_model_module": "@jupyter-widgets/base",
            "top": null,
            "grid_column": null,
            "overflow_y": null,
            "overflow_x": null,
            "grid_auto_flow": null,
            "grid_area": null,
            "grid_template_columns": null,
            "flex": null,
            "_model_name": "LayoutModel",
            "justify_items": null,
            "grid_row": null,
            "max_height": null,
            "align_content": null,
            "visibility": null,
            "align_self": null,
            "height": null,
            "min_height": null,
            "padding": null,
            "grid_auto_rows": null,
            "grid_gap": null,
            "max_width": null,
            "order": null,
            "_view_module_version": "1.2.0",
            "grid_template_areas": null,
            "object_position": null,
            "object_fit": null,
            "grid_auto_columns": null,
            "margin": null,
            "display": null,
            "left": null
          }
        },
        "7f02a74ea0454915a4ce1923fc8f0278": {
          "model_module": "@jupyter-widgets/controls",
          "model_name": "HBoxModel",
          "state": {
            "_view_name": "HBoxView",
            "_dom_classes": [],
            "_model_name": "HBoxModel",
            "_view_module": "@jupyter-widgets/controls",
            "_model_module_version": "1.5.0",
            "_view_count": null,
            "_view_module_version": "1.5.0",
            "box_style": "",
            "layout": "IPY_MODEL_f3b32196d63e4130800d7999a8665f13",
            "_model_module": "@jupyter-widgets/controls",
            "children": [
              "IPY_MODEL_b74fafc8899a4e6699a2069145938162",
              "IPY_MODEL_0b048e949aee49e8901e8fa619f38575"
            ]
          }
        },
        "f3b32196d63e4130800d7999a8665f13": {
          "model_module": "@jupyter-widgets/base",
          "model_name": "LayoutModel",
          "state": {
            "_view_name": "LayoutView",
            "grid_template_rows": null,
            "right": null,
            "justify_content": null,
            "_view_module": "@jupyter-widgets/base",
            "overflow": null,
            "_model_module_version": "1.2.0",
            "_view_count": null,
            "flex_flow": null,
            "width": null,
            "min_width": null,
            "border": null,
            "align_items": null,
            "bottom": null,
            "_model_module": "@jupyter-widgets/base",
            "top": null,
            "grid_column": null,
            "overflow_y": null,
            "overflow_x": null,
            "grid_auto_flow": null,
            "grid_area": null,
            "grid_template_columns": null,
            "flex": null,
            "_model_name": "LayoutModel",
            "justify_items": null,
            "grid_row": null,
            "max_height": null,
            "align_content": null,
            "visibility": null,
            "align_self": null,
            "height": null,
            "min_height": null,
            "padding": null,
            "grid_auto_rows": null,
            "grid_gap": null,
            "max_width": null,
            "order": null,
            "_view_module_version": "1.2.0",
            "grid_template_areas": null,
            "object_position": null,
            "object_fit": null,
            "grid_auto_columns": null,
            "margin": null,
            "display": null,
            "left": null
          }
        },
        "b74fafc8899a4e6699a2069145938162": {
          "model_module": "@jupyter-widgets/controls",
          "model_name": "FloatProgressModel",
          "state": {
            "_view_name": "ProgressView",
            "style": "IPY_MODEL_7cccbb03174a47b281a5ed6696d95680",
            "_dom_classes": [],
            "description": "100%",
            "_model_name": "FloatProgressModel",
            "bar_style": "",
            "max": 3,
            "_view_module": "@jupyter-widgets/controls",
            "_model_module_version": "1.5.0",
            "value": 3,
            "_view_count": null,
            "_view_module_version": "1.5.0",
            "orientation": "horizontal",
            "min": 0,
            "description_tooltip": null,
            "_model_module": "@jupyter-widgets/controls",
            "layout": "IPY_MODEL_19abe6b926534446bd21098b3fed37bf"
          }
        },
        "0b048e949aee49e8901e8fa619f38575": {
          "model_module": "@jupyter-widgets/controls",
          "model_name": "HTMLModel",
          "state": {
            "_view_name": "HTMLView",
            "style": "IPY_MODEL_cac98c1102c34c4bb5a6fe5104f782c9",
            "_dom_classes": [],
            "description": "",
            "_model_name": "HTMLModel",
            "placeholder": "​",
            "_view_module": "@jupyter-widgets/controls",
            "_model_module_version": "1.5.0",
            "value": " 3/3 [00:03&lt;00:00,  1.04s/it, text]",
            "_view_count": null,
            "_view_module_version": "1.5.0",
            "description_tooltip": null,
            "_model_module": "@jupyter-widgets/controls",
            "layout": "IPY_MODEL_f071a5d6c0c94f7bae369e7f45ce31c5"
          }
        },
        "7cccbb03174a47b281a5ed6696d95680": {
          "model_module": "@jupyter-widgets/controls",
          "model_name": "ProgressStyleModel",
          "state": {
            "_view_name": "StyleView",
            "_model_name": "ProgressStyleModel",
            "description_width": "initial",
            "_view_module": "@jupyter-widgets/base",
            "_model_module_version": "1.5.0",
            "_view_count": null,
            "_view_module_version": "1.2.0",
            "bar_color": null,
            "_model_module": "@jupyter-widgets/controls"
          }
        },
        "19abe6b926534446bd21098b3fed37bf": {
          "model_module": "@jupyter-widgets/base",
          "model_name": "LayoutModel",
          "state": {
            "_view_name": "LayoutView",
            "grid_template_rows": null,
            "right": null,
            "justify_content": null,
            "_view_module": "@jupyter-widgets/base",
            "overflow": null,
            "_model_module_version": "1.2.0",
            "_view_count": null,
            "flex_flow": null,
            "width": null,
            "min_width": null,
            "border": null,
            "align_items": null,
            "bottom": null,
            "_model_module": "@jupyter-widgets/base",
            "top": null,
            "grid_column": null,
            "overflow_y": null,
            "overflow_x": null,
            "grid_auto_flow": null,
            "grid_area": null,
            "grid_template_columns": null,
            "flex": null,
            "_model_name": "LayoutModel",
            "justify_items": null,
            "grid_row": null,
            "max_height": null,
            "align_content": null,
            "visibility": null,
            "align_self": null,
            "height": null,
            "min_height": null,
            "padding": null,
            "grid_auto_rows": null,
            "grid_gap": null,
            "max_width": null,
            "order": null,
            "_view_module_version": "1.2.0",
            "grid_template_areas": null,
            "object_position": null,
            "object_fit": null,
            "grid_auto_columns": null,
            "margin": null,
            "display": null,
            "left": null
          }
        },
        "cac98c1102c34c4bb5a6fe5104f782c9": {
          "model_module": "@jupyter-widgets/controls",
          "model_name": "DescriptionStyleModel",
          "state": {
            "_view_name": "StyleView",
            "_model_name": "DescriptionStyleModel",
            "description_width": "",
            "_view_module": "@jupyter-widgets/base",
            "_model_module_version": "1.5.0",
            "_view_count": null,
            "_view_module_version": "1.2.0",
            "_model_module": "@jupyter-widgets/controls"
          }
        },
        "f071a5d6c0c94f7bae369e7f45ce31c5": {
          "model_module": "@jupyter-widgets/base",
          "model_name": "LayoutModel",
          "state": {
            "_view_name": "LayoutView",
            "grid_template_rows": null,
            "right": null,
            "justify_content": null,
            "_view_module": "@jupyter-widgets/base",
            "overflow": null,
            "_model_module_version": "1.2.0",
            "_view_count": null,
            "flex_flow": null,
            "width": null,
            "min_width": null,
            "border": null,
            "align_items": null,
            "bottom": null,
            "_model_module": "@jupyter-widgets/base",
            "top": null,
            "grid_column": null,
            "overflow_y": null,
            "overflow_x": null,
            "grid_auto_flow": null,
            "grid_area": null,
            "grid_template_columns": null,
            "flex": null,
            "_model_name": "LayoutModel",
            "justify_items": null,
            "grid_row": null,
            "max_height": null,
            "align_content": null,
            "visibility": null,
            "align_self": null,
            "height": null,
            "min_height": null,
            "padding": null,
            "grid_auto_rows": null,
            "grid_gap": null,
            "max_width": null,
            "order": null,
            "_view_module_version": "1.2.0",
            "grid_template_areas": null,
            "object_position": null,
            "object_fit": null,
            "grid_auto_columns": null,
            "margin": null,
            "display": null,
            "left": null
          }
        },
        "b7780922caed498d8a4640fe496acaae": {
          "model_module": "@jupyter-widgets/controls",
          "model_name": "HBoxModel",
          "state": {
            "_view_name": "HBoxView",
            "_dom_classes": [],
            "_model_name": "HBoxModel",
            "_view_module": "@jupyter-widgets/controls",
            "_model_module_version": "1.5.0",
            "_view_count": null,
            "_view_module_version": "1.5.0",
            "box_style": "",
            "layout": "IPY_MODEL_160cab4d4fa3487fabd8a63e90774f0e",
            "_model_module": "@jupyter-widgets/controls",
            "children": [
              "IPY_MODEL_ee58af6c9418432f9f67a5924d08bf58",
              "IPY_MODEL_763bfc57977d44fe8116428f20d1fd60"
            ]
          }
        },
        "160cab4d4fa3487fabd8a63e90774f0e": {
          "model_module": "@jupyter-widgets/base",
          "model_name": "LayoutModel",
          "state": {
            "_view_name": "LayoutView",
            "grid_template_rows": null,
            "right": null,
            "justify_content": null,
            "_view_module": "@jupyter-widgets/base",
            "overflow": null,
            "_model_module_version": "1.2.0",
            "_view_count": null,
            "flex_flow": null,
            "width": null,
            "min_width": null,
            "border": null,
            "align_items": null,
            "bottom": null,
            "_model_module": "@jupyter-widgets/base",
            "top": null,
            "grid_column": null,
            "overflow_y": null,
            "overflow_x": null,
            "grid_auto_flow": null,
            "grid_area": null,
            "grid_template_columns": null,
            "flex": null,
            "_model_name": "LayoutModel",
            "justify_items": null,
            "grid_row": null,
            "max_height": null,
            "align_content": null,
            "visibility": null,
            "align_self": null,
            "height": null,
            "min_height": null,
            "padding": null,
            "grid_auto_rows": null,
            "grid_gap": null,
            "max_width": null,
            "order": null,
            "_view_module_version": "1.2.0",
            "grid_template_areas": null,
            "object_position": null,
            "object_fit": null,
            "grid_auto_columns": null,
            "margin": null,
            "display": null,
            "left": null
          }
        },
        "ee58af6c9418432f9f67a5924d08bf58": {
          "model_module": "@jupyter-widgets/controls",
          "model_name": "FloatProgressModel",
          "state": {
            "_view_name": "ProgressView",
            "style": "IPY_MODEL_78baee97fdca4c38bb9e7364f0ba212a",
            "_dom_classes": [],
            "description": "100%",
            "_model_name": "FloatProgressModel",
            "bar_style": "",
            "max": 3,
            "_view_module": "@jupyter-widgets/controls",
            "_model_module_version": "1.5.0",
            "value": 3,
            "_view_count": null,
            "_view_module_version": "1.5.0",
            "orientation": "horizontal",
            "min": 0,
            "description_tooltip": null,
            "_model_module": "@jupyter-widgets/controls",
            "layout": "IPY_MODEL_b1d34f0250b94931961d5c02e8c13f8c"
          }
        },
        "763bfc57977d44fe8116428f20d1fd60": {
          "model_module": "@jupyter-widgets/controls",
          "model_name": "HTMLModel",
          "state": {
            "_view_name": "HTMLView",
            "style": "IPY_MODEL_59c54c6fa1854cdfb75c738e2a0e7dd9",
            "_dom_classes": [],
            "description": "",
            "_model_name": "HTMLModel",
            "placeholder": "​",
            "_view_module": "@jupyter-widgets/controls",
            "_model_module_version": "1.5.0",
            "value": " 3/3 [00:03&lt;00:00,  1.05s/it, text]",
            "_view_count": null,
            "_view_module_version": "1.5.0",
            "description_tooltip": null,
            "_model_module": "@jupyter-widgets/controls",
            "layout": "IPY_MODEL_d651af53a3db44d6a968b45e679c4aaa"
          }
        },
        "78baee97fdca4c38bb9e7364f0ba212a": {
          "model_module": "@jupyter-widgets/controls",
          "model_name": "ProgressStyleModel",
          "state": {
            "_view_name": "StyleView",
            "_model_name": "ProgressStyleModel",
            "description_width": "initial",
            "_view_module": "@jupyter-widgets/base",
            "_model_module_version": "1.5.0",
            "_view_count": null,
            "_view_module_version": "1.2.0",
            "bar_color": null,
            "_model_module": "@jupyter-widgets/controls"
          }
        },
        "b1d34f0250b94931961d5c02e8c13f8c": {
          "model_module": "@jupyter-widgets/base",
          "model_name": "LayoutModel",
          "state": {
            "_view_name": "LayoutView",
            "grid_template_rows": null,
            "right": null,
            "justify_content": null,
            "_view_module": "@jupyter-widgets/base",
            "overflow": null,
            "_model_module_version": "1.2.0",
            "_view_count": null,
            "flex_flow": null,
            "width": null,
            "min_width": null,
            "border": null,
            "align_items": null,
            "bottom": null,
            "_model_module": "@jupyter-widgets/base",
            "top": null,
            "grid_column": null,
            "overflow_y": null,
            "overflow_x": null,
            "grid_auto_flow": null,
            "grid_area": null,
            "grid_template_columns": null,
            "flex": null,
            "_model_name": "LayoutModel",
            "justify_items": null,
            "grid_row": null,
            "max_height": null,
            "align_content": null,
            "visibility": null,
            "align_self": null,
            "height": null,
            "min_height": null,
            "padding": null,
            "grid_auto_rows": null,
            "grid_gap": null,
            "max_width": null,
            "order": null,
            "_view_module_version": "1.2.0",
            "grid_template_areas": null,
            "object_position": null,
            "object_fit": null,
            "grid_auto_columns": null,
            "margin": null,
            "display": null,
            "left": null
          }
        },
        "59c54c6fa1854cdfb75c738e2a0e7dd9": {
          "model_module": "@jupyter-widgets/controls",
          "model_name": "DescriptionStyleModel",
          "state": {
            "_view_name": "StyleView",
            "_model_name": "DescriptionStyleModel",
            "description_width": "",
            "_view_module": "@jupyter-widgets/base",
            "_model_module_version": "1.5.0",
            "_view_count": null,
            "_view_module_version": "1.2.0",
            "_model_module": "@jupyter-widgets/controls"
          }
        },
        "d651af53a3db44d6a968b45e679c4aaa": {
          "model_module": "@jupyter-widgets/base",
          "model_name": "LayoutModel",
          "state": {
            "_view_name": "LayoutView",
            "grid_template_rows": null,
            "right": null,
            "justify_content": null,
            "_view_module": "@jupyter-widgets/base",
            "overflow": null,
            "_model_module_version": "1.2.0",
            "_view_count": null,
            "flex_flow": null,
            "width": null,
            "min_width": null,
            "border": null,
            "align_items": null,
            "bottom": null,
            "_model_module": "@jupyter-widgets/base",
            "top": null,
            "grid_column": null,
            "overflow_y": null,
            "overflow_x": null,
            "grid_auto_flow": null,
            "grid_area": null,
            "grid_template_columns": null,
            "flex": null,
            "_model_name": "LayoutModel",
            "justify_items": null,
            "grid_row": null,
            "max_height": null,
            "align_content": null,
            "visibility": null,
            "align_self": null,
            "height": null,
            "min_height": null,
            "padding": null,
            "grid_auto_rows": null,
            "grid_gap": null,
            "max_width": null,
            "order": null,
            "_view_module_version": "1.2.0",
            "grid_template_areas": null,
            "object_position": null,
            "object_fit": null,
            "grid_auto_columns": null,
            "margin": null,
            "display": null,
            "left": null
          }
        },
        "16acef26db834b05bf000ed87e2ea89b": {
          "model_module": "@jupyter-widgets/controls",
          "model_name": "HBoxModel",
          "state": {
            "_view_name": "HBoxView",
            "_dom_classes": [],
            "_model_name": "HBoxModel",
            "_view_module": "@jupyter-widgets/controls",
            "_model_module_version": "1.5.0",
            "_view_count": null,
            "_view_module_version": "1.5.0",
            "box_style": "",
            "layout": "IPY_MODEL_52a6ed2898dd4bd48768beda573fd815",
            "_model_module": "@jupyter-widgets/controls",
            "children": [
              "IPY_MODEL_559f3b7dd8a345d7b0da80217acf3861",
              "IPY_MODEL_a31bf125cbd24c83b4c50df62c41231f"
            ]
          }
        },
        "52a6ed2898dd4bd48768beda573fd815": {
          "model_module": "@jupyter-widgets/base",
          "model_name": "LayoutModel",
          "state": {
            "_view_name": "LayoutView",
            "grid_template_rows": null,
            "right": null,
            "justify_content": null,
            "_view_module": "@jupyter-widgets/base",
            "overflow": null,
            "_model_module_version": "1.2.0",
            "_view_count": null,
            "flex_flow": null,
            "width": null,
            "min_width": null,
            "border": null,
            "align_items": null,
            "bottom": null,
            "_model_module": "@jupyter-widgets/base",
            "top": null,
            "grid_column": null,
            "overflow_y": null,
            "overflow_x": null,
            "grid_auto_flow": null,
            "grid_area": null,
            "grid_template_columns": null,
            "flex": null,
            "_model_name": "LayoutModel",
            "justify_items": null,
            "grid_row": null,
            "max_height": null,
            "align_content": null,
            "visibility": null,
            "align_self": null,
            "height": null,
            "min_height": null,
            "padding": null,
            "grid_auto_rows": null,
            "grid_gap": null,
            "max_width": null,
            "order": null,
            "_view_module_version": "1.2.0",
            "grid_template_areas": null,
            "object_position": null,
            "object_fit": null,
            "grid_auto_columns": null,
            "margin": null,
            "display": null,
            "left": null
          }
        },
        "559f3b7dd8a345d7b0da80217acf3861": {
          "model_module": "@jupyter-widgets/controls",
          "model_name": "FloatProgressModel",
          "state": {
            "_view_name": "ProgressView",
            "style": "IPY_MODEL_3a38cc7e4b024a518c379f0027b3d9a4",
            "_dom_classes": [],
            "description": "100%",
            "_model_name": "FloatProgressModel",
            "bar_style": "",
            "max": 3,
            "_view_module": "@jupyter-widgets/controls",
            "_model_module_version": "1.5.0",
            "value": 3,
            "_view_count": null,
            "_view_module_version": "1.5.0",
            "orientation": "horizontal",
            "min": 0,
            "description_tooltip": null,
            "_model_module": "@jupyter-widgets/controls",
            "layout": "IPY_MODEL_076b89a9621f46a6833ee0706ee09a93"
          }
        },
        "a31bf125cbd24c83b4c50df62c41231f": {
          "model_module": "@jupyter-widgets/controls",
          "model_name": "HTMLModel",
          "state": {
            "_view_name": "HTMLView",
            "style": "IPY_MODEL_afde2e2080094b9c92b2e8ca704cef5d",
            "_dom_classes": [],
            "description": "",
            "_model_name": "HTMLModel",
            "placeholder": "​",
            "_view_module": "@jupyter-widgets/controls",
            "_model_module_version": "1.5.0",
            "value": " 3/3 [00:03&lt;00:00,  1.02s/it, text]",
            "_view_count": null,
            "_view_module_version": "1.5.0",
            "description_tooltip": null,
            "_model_module": "@jupyter-widgets/controls",
            "layout": "IPY_MODEL_ba5bf2f8c6da4e74a9291318d2d0c97d"
          }
        },
        "3a38cc7e4b024a518c379f0027b3d9a4": {
          "model_module": "@jupyter-widgets/controls",
          "model_name": "ProgressStyleModel",
          "state": {
            "_view_name": "StyleView",
            "_model_name": "ProgressStyleModel",
            "description_width": "initial",
            "_view_module": "@jupyter-widgets/base",
            "_model_module_version": "1.5.0",
            "_view_count": null,
            "_view_module_version": "1.2.0",
            "bar_color": null,
            "_model_module": "@jupyter-widgets/controls"
          }
        },
        "076b89a9621f46a6833ee0706ee09a93": {
          "model_module": "@jupyter-widgets/base",
          "model_name": "LayoutModel",
          "state": {
            "_view_name": "LayoutView",
            "grid_template_rows": null,
            "right": null,
            "justify_content": null,
            "_view_module": "@jupyter-widgets/base",
            "overflow": null,
            "_model_module_version": "1.2.0",
            "_view_count": null,
            "flex_flow": null,
            "width": null,
            "min_width": null,
            "border": null,
            "align_items": null,
            "bottom": null,
            "_model_module": "@jupyter-widgets/base",
            "top": null,
            "grid_column": null,
            "overflow_y": null,
            "overflow_x": null,
            "grid_auto_flow": null,
            "grid_area": null,
            "grid_template_columns": null,
            "flex": null,
            "_model_name": "LayoutModel",
            "justify_items": null,
            "grid_row": null,
            "max_height": null,
            "align_content": null,
            "visibility": null,
            "align_self": null,
            "height": null,
            "min_height": null,
            "padding": null,
            "grid_auto_rows": null,
            "grid_gap": null,
            "max_width": null,
            "order": null,
            "_view_module_version": "1.2.0",
            "grid_template_areas": null,
            "object_position": null,
            "object_fit": null,
            "grid_auto_columns": null,
            "margin": null,
            "display": null,
            "left": null
          }
        },
        "afde2e2080094b9c92b2e8ca704cef5d": {
          "model_module": "@jupyter-widgets/controls",
          "model_name": "DescriptionStyleModel",
          "state": {
            "_view_name": "StyleView",
            "_model_name": "DescriptionStyleModel",
            "description_width": "",
            "_view_module": "@jupyter-widgets/base",
            "_model_module_version": "1.5.0",
            "_view_count": null,
            "_view_module_version": "1.2.0",
            "_model_module": "@jupyter-widgets/controls"
          }
        },
        "ba5bf2f8c6da4e74a9291318d2d0c97d": {
          "model_module": "@jupyter-widgets/base",
          "model_name": "LayoutModel",
          "state": {
            "_view_name": "LayoutView",
            "grid_template_rows": null,
            "right": null,
            "justify_content": null,
            "_view_module": "@jupyter-widgets/base",
            "overflow": null,
            "_model_module_version": "1.2.0",
            "_view_count": null,
            "flex_flow": null,
            "width": null,
            "min_width": null,
            "border": null,
            "align_items": null,
            "bottom": null,
            "_model_module": "@jupyter-widgets/base",
            "top": null,
            "grid_column": null,
            "overflow_y": null,
            "overflow_x": null,
            "grid_auto_flow": null,
            "grid_area": null,
            "grid_template_columns": null,
            "flex": null,
            "_model_name": "LayoutModel",
            "justify_items": null,
            "grid_row": null,
            "max_height": null,
            "align_content": null,
            "visibility": null,
            "align_self": null,
            "height": null,
            "min_height": null,
            "padding": null,
            "grid_auto_rows": null,
            "grid_gap": null,
            "max_width": null,
            "order": null,
            "_view_module_version": "1.2.0",
            "grid_template_areas": null,
            "object_position": null,
            "object_fit": null,
            "grid_auto_columns": null,
            "margin": null,
            "display": null,
            "left": null
          }
        },
        "8465d3da2dbc439c82fc00eaefd0a5f1": {
          "model_module": "@jupyter-widgets/controls",
          "model_name": "HBoxModel",
          "state": {
            "_view_name": "HBoxView",
            "_dom_classes": [],
            "_model_name": "HBoxModel",
            "_view_module": "@jupyter-widgets/controls",
            "_model_module_version": "1.5.0",
            "_view_count": null,
            "_view_module_version": "1.5.0",
            "box_style": "",
            "layout": "IPY_MODEL_52cdd8816eff4e658ee97fcf5a191af8",
            "_model_module": "@jupyter-widgets/controls",
            "children": [
              "IPY_MODEL_072ec762964f47b6b6158f55c490da2f",
              "IPY_MODEL_b30a027881f941a8aff3de00ddb2c9f1"
            ]
          }
        },
        "52cdd8816eff4e658ee97fcf5a191af8": {
          "model_module": "@jupyter-widgets/base",
          "model_name": "LayoutModel",
          "state": {
            "_view_name": "LayoutView",
            "grid_template_rows": null,
            "right": null,
            "justify_content": null,
            "_view_module": "@jupyter-widgets/base",
            "overflow": null,
            "_model_module_version": "1.2.0",
            "_view_count": null,
            "flex_flow": null,
            "width": null,
            "min_width": null,
            "border": null,
            "align_items": null,
            "bottom": null,
            "_model_module": "@jupyter-widgets/base",
            "top": null,
            "grid_column": null,
            "overflow_y": null,
            "overflow_x": null,
            "grid_auto_flow": null,
            "grid_area": null,
            "grid_template_columns": null,
            "flex": null,
            "_model_name": "LayoutModel",
            "justify_items": null,
            "grid_row": null,
            "max_height": null,
            "align_content": null,
            "visibility": null,
            "align_self": null,
            "height": null,
            "min_height": null,
            "padding": null,
            "grid_auto_rows": null,
            "grid_gap": null,
            "max_width": null,
            "order": null,
            "_view_module_version": "1.2.0",
            "grid_template_areas": null,
            "object_position": null,
            "object_fit": null,
            "grid_auto_columns": null,
            "margin": null,
            "display": null,
            "left": null
          }
        },
        "072ec762964f47b6b6158f55c490da2f": {
          "model_module": "@jupyter-widgets/controls",
          "model_name": "FloatProgressModel",
          "state": {
            "_view_name": "ProgressView",
            "style": "IPY_MODEL_48ba6983960f4d66a474b1ef1d5deae0",
            "_dom_classes": [],
            "description": "100%",
            "_model_name": "FloatProgressModel",
            "bar_style": "",
            "max": 3,
            "_view_module": "@jupyter-widgets/controls",
            "_model_module_version": "1.5.0",
            "value": 3,
            "_view_count": null,
            "_view_module_version": "1.5.0",
            "orientation": "horizontal",
            "min": 0,
            "description_tooltip": null,
            "_model_module": "@jupyter-widgets/controls",
            "layout": "IPY_MODEL_e25fe46af8874abea16afc017c4d8c02"
          }
        },
        "b30a027881f941a8aff3de00ddb2c9f1": {
          "model_module": "@jupyter-widgets/controls",
          "model_name": "HTMLModel",
          "state": {
            "_view_name": "HTMLView",
            "style": "IPY_MODEL_bcd1e736339b49428e35134c86684b58",
            "_dom_classes": [],
            "description": "",
            "_model_name": "HTMLModel",
            "placeholder": "​",
            "_view_module": "@jupyter-widgets/controls",
            "_model_module_version": "1.5.0",
            "value": " 3/3 [00:03&lt;00:00,  1.04s/it, text]",
            "_view_count": null,
            "_view_module_version": "1.5.0",
            "description_tooltip": null,
            "_model_module": "@jupyter-widgets/controls",
            "layout": "IPY_MODEL_1339633a4d4e41b6ba9941d175e8ac55"
          }
        },
        "48ba6983960f4d66a474b1ef1d5deae0": {
          "model_module": "@jupyter-widgets/controls",
          "model_name": "ProgressStyleModel",
          "state": {
            "_view_name": "StyleView",
            "_model_name": "ProgressStyleModel",
            "description_width": "initial",
            "_view_module": "@jupyter-widgets/base",
            "_model_module_version": "1.5.0",
            "_view_count": null,
            "_view_module_version": "1.2.0",
            "bar_color": null,
            "_model_module": "@jupyter-widgets/controls"
          }
        },
        "e25fe46af8874abea16afc017c4d8c02": {
          "model_module": "@jupyter-widgets/base",
          "model_name": "LayoutModel",
          "state": {
            "_view_name": "LayoutView",
            "grid_template_rows": null,
            "right": null,
            "justify_content": null,
            "_view_module": "@jupyter-widgets/base",
            "overflow": null,
            "_model_module_version": "1.2.0",
            "_view_count": null,
            "flex_flow": null,
            "width": null,
            "min_width": null,
            "border": null,
            "align_items": null,
            "bottom": null,
            "_model_module": "@jupyter-widgets/base",
            "top": null,
            "grid_column": null,
            "overflow_y": null,
            "overflow_x": null,
            "grid_auto_flow": null,
            "grid_area": null,
            "grid_template_columns": null,
            "flex": null,
            "_model_name": "LayoutModel",
            "justify_items": null,
            "grid_row": null,
            "max_height": null,
            "align_content": null,
            "visibility": null,
            "align_self": null,
            "height": null,
            "min_height": null,
            "padding": null,
            "grid_auto_rows": null,
            "grid_gap": null,
            "max_width": null,
            "order": null,
            "_view_module_version": "1.2.0",
            "grid_template_areas": null,
            "object_position": null,
            "object_fit": null,
            "grid_auto_columns": null,
            "margin": null,
            "display": null,
            "left": null
          }
        },
        "bcd1e736339b49428e35134c86684b58": {
          "model_module": "@jupyter-widgets/controls",
          "model_name": "DescriptionStyleModel",
          "state": {
            "_view_name": "StyleView",
            "_model_name": "DescriptionStyleModel",
            "description_width": "",
            "_view_module": "@jupyter-widgets/base",
            "_model_module_version": "1.5.0",
            "_view_count": null,
            "_view_module_version": "1.2.0",
            "_model_module": "@jupyter-widgets/controls"
          }
        },
        "1339633a4d4e41b6ba9941d175e8ac55": {
          "model_module": "@jupyter-widgets/base",
          "model_name": "LayoutModel",
          "state": {
            "_view_name": "LayoutView",
            "grid_template_rows": null,
            "right": null,
            "justify_content": null,
            "_view_module": "@jupyter-widgets/base",
            "overflow": null,
            "_model_module_version": "1.2.0",
            "_view_count": null,
            "flex_flow": null,
            "width": null,
            "min_width": null,
            "border": null,
            "align_items": null,
            "bottom": null,
            "_model_module": "@jupyter-widgets/base",
            "top": null,
            "grid_column": null,
            "overflow_y": null,
            "overflow_x": null,
            "grid_auto_flow": null,
            "grid_area": null,
            "grid_template_columns": null,
            "flex": null,
            "_model_name": "LayoutModel",
            "justify_items": null,
            "grid_row": null,
            "max_height": null,
            "align_content": null,
            "visibility": null,
            "align_self": null,
            "height": null,
            "min_height": null,
            "padding": null,
            "grid_auto_rows": null,
            "grid_gap": null,
            "max_width": null,
            "order": null,
            "_view_module_version": "1.2.0",
            "grid_template_areas": null,
            "object_position": null,
            "object_fit": null,
            "grid_auto_columns": null,
            "margin": null,
            "display": null,
            "left": null
          }
        }
      }
    }
  },
  "cells": [
    {
      "cell_type": "markdown",
      "metadata": {
        "id": "view-in-github",
        "colab_type": "text"
      },
      "source": [
        "<a href=\"https://colab.research.google.com/github/shubhamscifi/ML-Utility-Snippets/blob/main/Snippets.ipynb\" target=\"_parent\"><img src=\"https://colab.research.google.com/assets/colab-badge.svg\" alt=\"Open In Colab\"/></a>"
      ]
    },
    {
      "cell_type": "markdown",
      "metadata": {
        "id": "LPFHP83TvILw"
      },
      "source": [
        "# 23 Google Colab Tips for Power Users"
      ]
    },
    {
      "cell_type": "code",
      "metadata": {
        "id": "PfDIHcxgvKKY"
      },
      "source": [
        "https://amitness.com/2020/06/google-colaboratory-tips/"
      ],
      "execution_count": null,
      "outputs": []
    },
    {
      "cell_type": "markdown",
      "metadata": {
        "id": "O54umJkLOGTF"
      },
      "source": [
        "# Convert Notebook to PDF/HTML"
      ]
    },
    {
      "cell_type": "code",
      "metadata": {
        "id": "7o5N91_UhrS5"
      },
      "source": [
        "# Note: to run selected lines code use Ctrl+Shift+Enter.\n",
        "\n",
        "# 1. Download notebook to server by wget or mounting gdrive\n",
        "FILEID = ''\n",
        "FILENAME = ''   # save as file name without extension\n",
        "!wget --no-check-certificate 'https://docs.google.com/uc?export=download&id={FILEID}' -O {FILENAME+'.ipynb'}\n",
        "\n",
        "# 2. convert ipynb file to html\n",
        "!jupyter nbconvert --to HTML {FILENAME+'.ipynb'}\n",
        "\n",
        "# Either convert html to pdf using Ctrl+P or do the steps below.\n",
        "\n",
        "# 3. Download the 'Ubuntu bionic amd64(preferably)' version from below link and install it.\n",
        "# https://wkhtmltopdf.org/downloads.html\n",
        "# https://computingforgeeks.com/install-wkhtmltopdf-on-ubuntu-debian-linux/  (installation example)\n",
        "!wget https://github.com/wkhtmltopdf/packaging/releases/download/0.12.6-1/wkhtmltox_0.12.6-1.bionic_amd64.deb\n",
        "!sudo apt install '/content/wkhtmltox_0.12.6-1.bionic_amd64.deb'\n",
        "\n",
        "# 4. convert html file to pdf\n",
        "!wkhtmltopdf {FILENAME+'.html'} {FILENAME+'.pdf'}"
      ],
      "execution_count": null,
      "outputs": []
    },
    {
      "cell_type": "markdown",
      "metadata": {
        "id": "QuNgpEEIWWhL"
      },
      "source": [
        "# Download Google Drive public file\n",
        "- https://drive.google.com/file/d/ **FILEID** /view?usp=sharing"
      ]
    },
    {
      "cell_type": "code",
      "metadata": {
        "id": "p7F7mcSTWbGs"
      },
      "source": [
        "# https://medium.com/@acpanjan/download-google-drive-files-using-wget-3c2c025a8b99\n",
        "# For small files\n",
        "FILEID = ''\n",
        "FILENAME = ''   # save as file name\n",
        "!wget --no-check-certificate 'https://docs.google.com/uc?export=download&id={FILEID}' -O {FILENAME}"
      ],
      "execution_count": null,
      "outputs": []
    },
    {
      "cell_type": "code",
      "metadata": {
        "id": "UYPTj4rYWr5r"
      },
      "source": [
        "# For large files\n",
        "FILEID = ''\n",
        "FILENAME = ''   # save as file name\n",
        "!wget --load-cookies /tmp/cookies.txt \"https://docs.google.com/uc?export=download&confirm=$(wget --quiet --save-cookies /tmp/cookies.txt --keep-session-cookies --no-check-certificate 'https://docs.google.com/uc?export=download&id={FILEID}' -O- | sed -rn 's/.*confirm=([0-9A-Za-z_]+).*/\\1\\n/p')&id={FILEID}\" -O {FILENAME} && rm -rf /tmp/cookies.txt"
      ],
      "execution_count": null,
      "outputs": []
    },
    {
      "cell_type": "code",
      "metadata": {
        "id": "eo_A0V7YeGGY"
      },
      "source": [
        "# https://github.com/ndrplz/google-drive-downloader\n",
        "from google_drive_downloader import GoogleDriveDownloader as gdd\n",
        "\n",
        "FILEID = ''\n",
        "FOLDER = './'\n",
        "FILENAME = ''   # save as file name\n",
        "\n",
        "gdd.download_file_from_google_drive(file_id=FILEID,\n",
        "                                    dest_path=FOLDER + FILENAME,\n",
        "                                    unzip=False,\n",
        "                                    showsize=True,\n",
        "                                    overwrite=False)\n",
        "\n",
        "# Set showsize=True to see the download progress\n",
        "# Set overwrite=True you really want to overwrite an already existent file."
      ],
      "execution_count": null,
      "outputs": []
    },
    {
      "cell_type": "markdown",
      "metadata": {
        "id": "ouzlmtAxqD9p"
      },
      "source": [
        "# Stop Disconnect"
      ]
    },
    {
      "cell_type": "code",
      "metadata": {
        "id": "qquWmVzSjsZe"
      },
      "source": [
        "function KeepClicking(){\n",
        "   console.log(\"Clicking\");\n",
        "   document.querySelector(\"colab-toolbar-button#connect\").click()\n",
        "}setInterval(KeepClicking,60000)"
      ],
      "execution_count": null,
      "outputs": []
    },
    {
      "cell_type": "code",
      "metadata": {
        "id": "N9TxCSrMV5O0"
      },
      "source": [
        "function KeepClicking(){\n",
        "console.log(\"Clicking\");\n",
        "document.querySelector(\"colab-connect-button\").click()\n",
        "}\n",
        "setInterval(KeepClicking,60000)"
      ],
      "execution_count": null,
      "outputs": []
    },
    {
      "cell_type": "markdown",
      "metadata": {
        "id": "CB19Cbbbqn6A"
      },
      "source": [
        "# import libraries"
      ]
    },
    {
      "cell_type": "code",
      "metadata": {
        "id": "4SVRRuGrqsbF"
      },
      "source": [
        "import numpy as np\n",
        "import pandas as pd\n",
        "import matplotlib.pyplot as plt\n",
        "import seaborn as sns"
      ],
      "execution_count": null,
      "outputs": []
    },
    {
      "cell_type": "markdown",
      "metadata": {
        "id": "yO-xQRiruRQl"
      },
      "source": [
        "# ColabCode"
      ]
    },
    {
      "cell_type": "code",
      "metadata": {
        "id": "yiLyuxOEuUmy"
      },
      "source": [
        "!pip3 install colabcode \n",
        "import colabcode\n",
        "from colabcode import ColabCode\n",
        "\n",
        "# run colabcode with by deafult options.\n",
        "ColabCode()\n",
        "\n",
        "# ColabCode has the following arguments:\n",
        "# - port: the port you want to run code-server on, default 10000\n",
        "# - password: password to protect your code server from being accessed by someone else. Note that there is no password by default!\n",
        "# - mount_drive: True or False to mount your Google Drive. False by default.\n",
        "\n",
        "ColabCode(port=10000, password=\"shubham\", mount_drive=True)"
      ],
      "execution_count": null,
      "outputs": []
    },
    {
      "cell_type": "markdown",
      "metadata": {
        "id": "7Vr_wHivxJqk"
      },
      "source": [
        "# colab_everything (Run web-apps on colab)"
      ]
    },
    {
      "cell_type": "code",
      "metadata": {
        "id": "x1FoqdUnxU65"
      },
      "source": [
        "# https://github.com/Ankur-singh/colab_everything#colab_everything\n",
        "!pip install colab-everything\n",
        "!pip install streamlit"
      ],
      "execution_count": null,
      "outputs": []
    },
    {
      "cell_type": "code",
      "metadata": {
        "id": "KzuvaFOWxjjE"
      },
      "source": [
        "from colab_everything import ColabStreamlit\n",
        "ColabStreamlit('app.py',port=9000) # streamlit app path"
      ],
      "execution_count": null,
      "outputs": []
    },
    {
      "cell_type": "markdown",
      "metadata": {
        "id": "lJDEnn5kv5kF"
      },
      "source": [
        "# Kaggle"
      ]
    },
    {
      "cell_type": "markdown",
      "metadata": {
        "id": "k8LAOJUy3slo"
      },
      "source": [
        "https://github.com/Kaggle/kaggle-api#api-credentials\n",
        "\n",
        "https://www.kaggle.com/docs/api"
      ]
    },
    {
      "cell_type": "markdown",
      "metadata": {
        "id": "ocv0JaBDwFqw"
      },
      "source": [
        "# Kaggle authentication"
      ]
    },
    {
      "cell_type": "code",
      "metadata": {
        "id": "I6NI3bdOT0-p"
      },
      "source": [
        "# https://github.com/Kaggle/kaggle-api#api-credentials\n",
        "# Kaggle authentication\n",
        "from getpass import getpass\n",
        "import os\n",
        "\n",
        "os.environ['KAGGLE_USERNAME'] = input('Enter kaggle username: ') # username from the json file\n",
        "os.environ['KAGGLE_KEY'] = getpass('Enter Token: ') # key from the json file"
      ],
      "execution_count": null,
      "outputs": []
    },
    {
      "cell_type": "markdown",
      "metadata": {
        "id": "BFM-ZS3rxTRR"
      },
      "source": [
        "# Kaggle Download competition files"
      ]
    },
    {
      "cell_type": "code",
      "metadata": {
        "id": "CxX2KzVBL-uk"
      },
      "source": [
        "# https://github.com/Kaggle/kaggle-api#download-competition-files\n",
        "!kaggle competitions download -c <competition-name> -p <folder to download files in>"
      ],
      "execution_count": null,
      "outputs": []
    },
    {
      "cell_type": "markdown",
      "metadata": {
        "id": "zeWhz83Fyg_u"
      },
      "source": [
        "### Extract zip files"
      ]
    },
    {
      "cell_type": "code",
      "metadata": {
        "id": "5URDIHFs3E3g"
      },
      "source": [
        "zip_file = os.listdir('<folder of downloaded files>')\n",
        "for file in zip_file:\n",
        "    !unzip /content/<folder of downloaded files>/{file}"
      ],
      "execution_count": null,
      "outputs": []
    },
    {
      "cell_type": "markdown",
      "metadata": {
        "id": "K88Rumtq3ZpS"
      },
      "source": [
        "# Kaggle Download dataset files"
      ]
    },
    {
      "cell_type": "code",
      "metadata": {
        "id": "PgnZktWPzx8T"
      },
      "source": [
        "# https://github.com/Kaggle/kaggle-api#download-dataset-files\n",
        "!kaggle datasets download -d [DATASET] --unzip  # https://www.kaggle.com/shubhamscifi/datasets"
      ],
      "execution_count": null,
      "outputs": []
    },
    {
      "cell_type": "markdown",
      "metadata": {
        "id": "gfq2AdxMzy1Q"
      },
      "source": [
        "# Kaggle Create a New Dataset\n",
        "<ul>\n",
        "    \t<li>\n",
        "    \t\t<p>Create a folder containing the files you want to upload</p>\n",
        "    \t</li>\n",
        "    \t<li>\n",
        "    \t\t<p>Run <code>kaggle datasets init -p /path/to/dataset</code> to <a href=\"https://github.com/Kaggle/kaggle-api/wiki/Dataset-Metadata\">generate a metadata file</a></p>\n",
        "    \t</li>\n",
        "    \t<li>\n",
        "    \t\t<p>Add your dataset’s metadata to the generated file, <code>datapackage.json</code></p>\n",
        "    \t</li>\n",
        "\n",
        "<p>Here's a basic example for <code>dataset-metadata.json: <a href=\"https://github.com/Kaggle/kaggle-api/wiki/Dataset-Metadata\">https://github.com/Kaggle/kaggle-api/wiki/Dataset-Metadata</a></code></p>\n",
        "<pre><code>{\n",
        "  \"title\": \"My Awesome Dataset\", \n",
        "  \"id\": \"timoboz/my-awesome-dataset\", \n",
        "  \"licenses\": [{\"name\": \"CC0-1.0\"}]\n",
        "}\n",
        "</code></pre>\n",
        "\n",
        "<li>\n",
        "<p>Run <code>kaggle datasets create -p /path/to/dataset</code> to create the dataset</p>\n",
        "</li>\n",
        "\n",
        "\n",
        "<p>Your dataset will be private by default. You can also add a <code>-u</code> flag to make it public when you create it, or navigate to “Settings” &gt; “Sharing” from your dataset’s page to make it public or share with collaborators.</p>"
      ]
    },
    {
      "cell_type": "code",
      "metadata": {
        "id": "3ykSaiW-qVru"
      },
      "source": [
        "!kaggle datasets init -p /path/to/dataset\n",
        "\n",
        "# preparing metadata json file\n",
        "import json,os\n",
        "metadata = open(os.path.join(folder,'dataset-metadata.json'),'r+')\n",
        "meta = json.load(metadata)\n",
        "meta['id'] = id\n",
        "meta['title']= title\n",
        "metadata.seek(0)\n",
        "json.dump(meta,metadata)\n",
        "metadata.truncate()\n",
        "metadata.close()"
      ],
      "execution_count": null,
      "outputs": []
    },
    {
      "cell_type": "code",
      "metadata": {
        "id": "eQzKrtLQp7fz"
      },
      "source": [
        "!kaggle datasets create -p /path/to/dataset"
      ],
      "execution_count": null,
      "outputs": []
    },
    {
      "cell_type": "markdown",
      "metadata": {
        "id": "Rd0inM-5zzSh"
      },
      "source": [
        "# Kaggle Create a New Dataset Version\n",
        "If you’d like to upload a new version of an existing dataset, follow these steps:\n",
        "<ul>\n",
        "    \t<li>\n",
        "    \t\t<p>Run <code>kaggle datasets init -p /path/to/dataset</code> to <a href=\"https://github.com/Kaggle/kaggle-api/wiki/Dataset-Metadata\">generate a metadata file</a> (if you don’t already have one)</p>\n",
        "    \t</li>\n",
        "    \t<li>\n",
        "    \t\t<p>Make sure the <code>id</code> field in <code>dataset-metadata.json</code> (or <code>datapackage.json</code>) points to your dataset</p>\n",
        "    \t</li>\n",
        "    \t<li>\n",
        "    \t\t<p>Run <code>kaggle datasets version -p /path/to/dataset -m \"Your message here\"</code></p>\n",
        "    \t</li>\n",
        "    </ul>"
      ]
    },
    {
      "cell_type": "code",
      "metadata": {
        "id": "x01Gu9eU0To9"
      },
      "source": [
        "!kaggle datasets init -p /path/to/dataset\n",
        "\n",
        "# preparing metadata json file\n",
        "import json,os\n",
        "metadata = open(os.path.join(folder,'dataset-metadata.json'),'r+')\n",
        "meta = json.load(metadata)\n",
        "meta['id'] = id\n",
        "meta['title']= title\n",
        "metadata.seek(0)\n",
        "json.dump(meta,metadata)\n",
        "metadata.truncate()\n",
        "metadata.close()"
      ],
      "execution_count": null,
      "outputs": []
    },
    {
      "cell_type": "code",
      "metadata": {
        "id": "rvCLuzww0Y46"
      },
      "source": [
        "!kaggle datasets version -p /path/to/dataset -m \"Your message here\""
      ],
      "execution_count": null,
      "outputs": []
    },
    {
      "cell_type": "markdown",
      "metadata": {
        "id": "LHLx7SmWYnY5"
      },
      "source": [
        "# Kaggle dataset uploader"
      ]
    },
    {
      "cell_type": "code",
      "metadata": {
        "id": "n-rNpYlSYmmm"
      },
      "source": [
        "def kaggle_file_uploader(files,id,title,folder='kaggle',msg='',first_time=False,del_after_upload=True):\n",
        "    '''Uploads list of files to kaggle.\n",
        "    Note: make sure to run after kaggle authentication.\n",
        "    id : must be between 6-50 chars after \"username/\".\n",
        "    title : must be between 6-50 chars.\n",
        "    files : list of path of files that are to be uploaded.\n",
        "    first_time: True if the data is being uploaded for the first time.\n",
        "    del_after_upload: True if given folder needs to be deleted after file upload finishes.'''\n",
        "    # https://github.com/Kaggle/kaggle-api\n",
        "\n",
        "    # create data package json file\n",
        "    !mkdir {folder}\n",
        "    !kaggle datasets init -p {folder}\n",
        "\n",
        "    # preparing metadata json file\n",
        "    import json,os\n",
        "    metadata = open(os.path.join(folder,'dataset-metadata.json'),'r+')\n",
        "    meta = json.load(metadata)\n",
        "    meta['id'] = id\n",
        "    meta['title']= title\n",
        "    metadata.seek(0)\n",
        "    json.dump(meta,metadata)\n",
        "    metadata.truncate()\n",
        "    metadata.close()\n",
        "\n",
        "    for file in set(files):\n",
        "        !cp {file} {folder}\n",
        "\n",
        "    # upload dataset to kaggle\n",
        "    if (first_time):\n",
        "        !kaggle datasets create -p {folder}\n",
        "    else:\n",
        "        # Create a New Dataset Version\n",
        "        !kaggle datasets version -p {folder} -m '{msg}'\n",
        "\n",
        "    if (del_after_upload):\n",
        "        !rm -rf {folder}"
      ],
      "execution_count": null,
      "outputs": []
    },
    {
      "cell_type": "markdown",
      "metadata": {
        "id": "_J7zddr26y-C"
      },
      "source": [
        "# Garbage Collection"
      ]
    },
    {
      "cell_type": "code",
      "metadata": {
        "id": "va22vT2f6zUS"
      },
      "source": [
        "import gc\n",
        "gc.collect()"
      ],
      "execution_count": null,
      "outputs": []
    },
    {
      "cell_type": "markdown",
      "metadata": {
        "id": "nd9ynGHRyLqZ"
      },
      "source": [
        "# batch predict proba"
      ]
    },
    {
      "cell_type": "code",
      "metadata": {
        "id": "-HkfT0RJyQ61"
      },
      "source": [
        "def batch_predict_proba(clf,dataset,batch_size):\n",
        "    '''\n",
        "    Return the predicted probability for each class for each sample; one batch at a time.\n",
        "    Saves RAM.\n",
        "    '''\n",
        "    if(isinstance(batch_size,float)):\n",
        "        if(batch_size>1):\n",
        "            print(r\"batch_size must be b\\w [0,1].\")\n",
        "            return\n",
        "        batch_size = round(len(dataset)*batch_size)\n",
        "\n",
        "    loop_size = len(dataset)//batch_size\n",
        "    rem = len(dataset)%batch_size\n",
        "    prob_pred = []\n",
        "    for i in range(loop_size):\n",
        "        start = i*batch_size\n",
        "        end = start+batch_size\n",
        "        prob_pred_batch = list(clf.predict_proba(dataset.iloc[start:end,:]))\n",
        "        prob_pred.extend(prob_pred_batch)\n",
        "    prob_pred_batch = list(clf.predict_proba(dataset.iloc[end:end+rem,:]))\n",
        "    prob_pred.extend(prob_pred_batch)\n",
        "    prob_pred = np.array(prob_pred)\n",
        "    del prob_pred_batch\n",
        "    return prob_pred"
      ],
      "execution_count": null,
      "outputs": []
    },
    {
      "cell_type": "markdown",
      "metadata": {
        "id": "3-9fdZNXqIEe"
      },
      "source": [
        "# Plot Confusion Matrix:"
      ]
    },
    {
      "cell_type": "code",
      "metadata": {
        "id": "ZhiNXOhZqM1N"
      },
      "source": [
        "def plot_confusion_matrix(y_true,y_pred,title,ax=None,cmap='Blues',fmt='d',normalize=None):\n",
        "    \"\"\"\n",
        "    Plot confusion matrix to evaluate the accuracy of a classification.\n",
        "\n",
        "    title : plot title.\n",
        "\n",
        "    fmt : str, optional\n",
        "    String formatting code to use when adding annotations.\n",
        "\n",
        "    normalize : {'true', 'pred', 'all'}, default=None\n",
        "    Normalizes confusion matrix over the true (rows), predicted (columns)\n",
        "    conditions or all the population. If None, confusion matrix will not be\n",
        "    normalized.\n",
        "    \"\"\"\n",
        "    cm = confusion_matrix(y_true,\n",
        "                          y_pred,\n",
        "                          normalize=normalize)\n",
        "    sns.heatmap(data=cm,annot=True,fmt=fmt,cmap=cmap,ax=ax)\n",
        "    if(ax!=None):\n",
        "        ax.set_xlabel('Predicted label',)\n",
        "        ax.set_ylabel('True label')\n",
        "        ax.set_title(title);\n",
        "    else:\n",
        "        plt.xlabel('Predicted label',)\n",
        "        plt.ylabel('True label')\n",
        "        plt.title(title); "
      ],
      "execution_count": null,
      "outputs": []
    },
    {
      "cell_type": "markdown",
      "metadata": {
        "id": "BmD96v_9NbLc"
      },
      "source": [
        "# Plot Feature Importance"
      ]
    },
    {
      "cell_type": "code",
      "metadata": {
        "id": "bKm5vIXbNaUz"
      },
      "source": [
        "# https://www.analyseup.com/learn-python-for-data-science/python-random-forest-feature-importance-plot.html\n",
        "def plot_feature_importance(importance,ftrs,model_name,labelpad=40,figsize=(10,7),return_ftr_imp=False):\n",
        "    '''\n",
        "    Plots Feature importance plot.\n",
        "    return_ftr_imp : returns a dataframe of (features,importance) \n",
        "                    sorted in descending order of importance.\n",
        "    '''\n",
        "    ftr_imp = pd.DataFrame(data= {'Feature':ftrs,\n",
        "                                'Importance':importance})\n",
        "    ftr_imp.sort_values(['Importance'],\n",
        "                        key=abs,\n",
        "                        ascending=False,\n",
        "                        inplace=True,\n",
        "                        ignore_index=True)\n",
        "    plt.figure(figsize=figsize)\n",
        "    sns.barplot(data=ftr_imp,x='Importance',y='Feature')\n",
        "    plt.ylabel('Feature',rotation=0,labelpad=labelpad)\n",
        "    plt.title(model_name+'Feature Importance.');\n",
        "    if(return_ftr_imp):\n",
        "        return ftr_imp"
      ],
      "execution_count": null,
      "outputs": []
    },
    {
      "cell_type": "markdown",
      "metadata": {
        "id": "igcaJQtroAvH"
      },
      "source": [
        "# Plot Calibration curve (Reliability curve)"
      ]
    },
    {
      "cell_type": "code",
      "metadata": {
        "id": "l7w-PskMoAAM"
      },
      "source": [
        "def plot_calibration_curve(y_true, y_pred, n_bins=n_bins, **kwargs):\n",
        "    prob_true, prob_pred = calibration_curve(y_true,\n",
        "                                             y_pred,\n",
        "                                             n_bins=n_bins,\n",
        "                                             **kwargs)\n",
        "    plt.plot(prob_true,prob_pred)\n",
        "    plt.title(f'Calibration plot (reliability curve) - n_bins = {n_bins}.')\n",
        "    plt.xlabel('Mean predicted probability.')\n",
        "    plt.ylabel('Fraction of positives.');"
      ],
      "execution_count": null,
      "outputs": []
    },
    {
      "cell_type": "markdown",
      "metadata": {
        "id": "rLowwcgE3tPR"
      },
      "source": [
        "# tqdm"
      ]
    },
    {
      "cell_type": "code",
      "metadata": {
        "id": "JWnspBDgMjdQ"
      },
      "source": [
        "# https://tqdm.github.io/\n",
        "# https://pypi.org/project/tqdm/#:~:text=and%20jupyter%20console.-,Use%20auto,-instead%20of%20autonotebook\n",
        "from tqdm.auto import tqdm\n",
        "import time"
      ],
      "execution_count": null,
      "outputs": []
    },
    {
      "cell_type": "code",
      "metadata": {
        "id": "nzIDQBhVNBH2",
        "colab": {
          "base_uri": "https://localhost:8080/",
          "height": 321,
          "referenced_widgets": [
            "28919753beb640999aa207d65ef3e6cf",
            "58044b35430843e0aa9e1473c0f14448",
            "deef54dce6f141cdbb2b689e5d382722",
            "b0383ef183f14677be1e421805b8091f",
            "8cb390f51e3c45a19a1292136ea3786e",
            "120b510f027840a7a8814dcfdd6bc3b7",
            "bb07f9b0a81941999cef0632dfbd7906",
            "baea0f2bce2c4e68b9942c4a6269a245",
            "275f292b3d9b44e5aee674224f1d5617",
            "8d7d081238b94b7a8c478c943c1b6795",
            "8e2af692056d41e099654c85e1f234bf",
            "27035bf4e25a4af796370d66b99a6e1e",
            "a797bdc1667c4c3fbe610fc46b5eccba",
            "e64cf1660f75419494d8508670e83e98",
            "d08f688f59b344b4a36db4ecbe5f7ce6",
            "8191d62d76514dd48afe9ebc36aab207",
            "7f02a74ea0454915a4ce1923fc8f0278",
            "f3b32196d63e4130800d7999a8665f13",
            "b74fafc8899a4e6699a2069145938162",
            "0b048e949aee49e8901e8fa619f38575",
            "7cccbb03174a47b281a5ed6696d95680",
            "19abe6b926534446bd21098b3fed37bf",
            "cac98c1102c34c4bb5a6fe5104f782c9",
            "f071a5d6c0c94f7bae369e7f45ce31c5",
            "b7780922caed498d8a4640fe496acaae",
            "160cab4d4fa3487fabd8a63e90774f0e",
            "ee58af6c9418432f9f67a5924d08bf58",
            "763bfc57977d44fe8116428f20d1fd60",
            "78baee97fdca4c38bb9e7364f0ba212a",
            "b1d34f0250b94931961d5c02e8c13f8c",
            "59c54c6fa1854cdfb75c738e2a0e7dd9",
            "d651af53a3db44d6a968b45e679c4aaa",
            "16acef26db834b05bf000ed87e2ea89b",
            "52a6ed2898dd4bd48768beda573fd815",
            "559f3b7dd8a345d7b0da80217acf3861",
            "a31bf125cbd24c83b4c50df62c41231f",
            "3a38cc7e4b024a518c379f0027b3d9a4",
            "076b89a9621f46a6833ee0706ee09a93",
            "afde2e2080094b9c92b2e8ca704cef5d",
            "ba5bf2f8c6da4e74a9291318d2d0c97d",
            "8465d3da2dbc439c82fc00eaefd0a5f1",
            "52cdd8816eff4e658ee97fcf5a191af8",
            "072ec762964f47b6b6158f55c490da2f",
            "b30a027881f941a8aff3de00ddb2c9f1",
            "48ba6983960f4d66a474b1ef1d5deae0",
            "e25fe46af8874abea16afc017c4d8c02",
            "bcd1e736339b49428e35134c86684b58",
            "1339633a4d4e41b6ba9941d175e8ac55"
          ]
        },
        "outputId": "f7fc9313-7735-4c89-d38a-022162e7c41b"
      },
      "source": [
        "# example\n",
        "x= tqdm(range(5),desc='loop1')\n",
        "for i in x:\n",
        "    t = tqdm(range(3),leave=False)\n",
        "    for j in t:\n",
        "        t.set_postfix_str(\"text\")\n",
        "        time.sleep(1)\n",
        "        #print(j)\n",
        "        tqdm.write('Hi')\n",
        "    x.set_postfix_str(\"fasdf\", refresh=True)\n",
        "    x.set_postfix({'#iter':i,   # can be used to print loss and accuracy wile hyperparameter tuning.\n",
        "                   'random':'Hi'})"
      ],
      "execution_count": null,
      "outputs": [
        {
          "output_type": "display_data",
          "data": {
            "application/vnd.jupyter.widget-view+json": {
              "model_id": "28919753beb640999aa207d65ef3e6cf",
              "version_minor": 0,
              "version_major": 2
            },
            "text/plain": [
              "HBox(children=(FloatProgress(value=0.0, description='loop1', max=5.0, style=ProgressStyle(description_width='i…"
            ]
          },
          "metadata": {
            "tags": []
          }
        },
        {
          "output_type": "display_data",
          "data": {
            "application/vnd.jupyter.widget-view+json": {
              "model_id": "275f292b3d9b44e5aee674224f1d5617",
              "version_minor": 0,
              "version_major": 2
            },
            "text/plain": [
              "HBox(children=(FloatProgress(value=0.0, max=3.0), HTML(value='')))"
            ]
          },
          "metadata": {
            "tags": []
          }
        },
        {
          "output_type": "stream",
          "text": [
            "Hi\n",
            "Hi\n",
            "Hi\n"
          ],
          "name": "stdout"
        },
        {
          "output_type": "display_data",
          "data": {
            "application/vnd.jupyter.widget-view+json": {
              "model_id": "7f02a74ea0454915a4ce1923fc8f0278",
              "version_minor": 0,
              "version_major": 2
            },
            "text/plain": [
              "HBox(children=(FloatProgress(value=0.0, max=3.0), HTML(value='')))"
            ]
          },
          "metadata": {
            "tags": []
          }
        },
        {
          "output_type": "stream",
          "text": [
            "Hi\n",
            "Hi\n",
            "Hi\n"
          ],
          "name": "stdout"
        },
        {
          "output_type": "display_data",
          "data": {
            "application/vnd.jupyter.widget-view+json": {
              "model_id": "b7780922caed498d8a4640fe496acaae",
              "version_minor": 0,
              "version_major": 2
            },
            "text/plain": [
              "HBox(children=(FloatProgress(value=0.0, max=3.0), HTML(value='')))"
            ]
          },
          "metadata": {
            "tags": []
          }
        },
        {
          "output_type": "stream",
          "text": [
            "Hi\n",
            "Hi\n",
            "Hi\n"
          ],
          "name": "stdout"
        },
        {
          "output_type": "display_data",
          "data": {
            "application/vnd.jupyter.widget-view+json": {
              "model_id": "16acef26db834b05bf000ed87e2ea89b",
              "version_minor": 0,
              "version_major": 2
            },
            "text/plain": [
              "HBox(children=(FloatProgress(value=0.0, max=3.0), HTML(value='')))"
            ]
          },
          "metadata": {
            "tags": []
          }
        },
        {
          "output_type": "stream",
          "text": [
            "Hi\n",
            "Hi\n",
            "Hi\n"
          ],
          "name": "stdout"
        },
        {
          "output_type": "display_data",
          "data": {
            "application/vnd.jupyter.widget-view+json": {
              "model_id": "8465d3da2dbc439c82fc00eaefd0a5f1",
              "version_minor": 0,
              "version_major": 2
            },
            "text/plain": [
              "HBox(children=(FloatProgress(value=0.0, max=3.0), HTML(value='')))"
            ]
          },
          "metadata": {
            "tags": []
          }
        },
        {
          "output_type": "stream",
          "text": [
            "Hi\n",
            "Hi\n",
            "Hi\n",
            "\n"
          ],
          "name": "stdout"
        }
      ]
    },
    {
      "cell_type": "markdown",
      "metadata": {
        "id": "3C6BR8aJAJal"
      },
      "source": [
        "# Reproduce tensorflow same results"
      ]
    },
    {
      "cell_type": "code",
      "metadata": {
        "id": "EIHYY5C6AKJh"
      },
      "source": [
        "import os\n",
        "import numpy as np\n",
        "import random as rnos.environ['PYTHONHASHSEED'] = '0'\n",
        " \n",
        "##https://keras.io/getting-started/faq/#how-can-i-obtain-reproducible-results-using-keras-during-development\n",
        "## Have to clear the session. If you are not clearing, Graph will create again and again and graph size will increses. \n",
        "## Varibles will also set to some value from before session\n",
        "tf.keras.backend.clear_session() \n",
        "\n",
        "## Set the random seed values to regenerate the \n",
        "model.np.random.seed(0)\n",
        "rn.seed(0)"
      ],
      "execution_count": null,
      "outputs": []
    },
    {
      "cell_type": "markdown",
      "metadata": {
        "id": "5wbkCIRhjr7U"
      },
      "source": [
        "# Save a Tensorflow Model"
      ]
    },
    {
      "cell_type": "code",
      "metadata": {
        "id": "fgbv2Q7ojrCm"
      },
      "source": [
        "# https://www.tensorflow.org/tutorials/keras/save_and_load#savedmodel_format\n",
        "# Save the entire model as a SavedModel.\n",
        "!mkdir -p saved_model\n",
        "model.save('saved_model/my_model')\n",
        "\n",
        "# zip the saved_model folder\n",
        "!zip -r ./model.zip ./saved_model"
      ],
      "execution_count": null,
      "outputs": []
    },
    {
      "cell_type": "code",
      "metadata": {
        "id": "1MyCYZqdj-Dr"
      },
      "source": [
        "# loading the Model\n",
        "\n",
        "# unzipping\n",
        "!unzip ./model.zip\n",
        "\n",
        "model = tf.keras.models.load_model('saved_model/my_model')\n",
        "\n",
        "# Check its architecture\n",
        "model.summary()"
      ],
      "execution_count": null,
      "outputs": []
    },
    {
      "cell_type": "markdown",
      "metadata": {
        "id": "iuVfxyccCixf"
      },
      "source": [
        "# System Specifications💻:"
      ]
    },
    {
      "cell_type": "markdown",
      "metadata": {
        "id": "Vk9IYmlyTRPG"
      },
      "source": [
        "**Operating System:**"
      ]
    },
    {
      "cell_type": "code",
      "metadata": {
        "colab": {
          "base_uri": "https://localhost:8080/"
        },
        "id": "w4GAYsy-StqN",
        "outputId": "177f45c9-aabc-4210-eaba-2414f7f03e85"
      },
      "source": [
        "!uname\n",
        "!lsb_release -d"
      ],
      "execution_count": null,
      "outputs": [
        {
          "output_type": "stream",
          "text": [
            "Linux\n",
            "Description:\tUbuntu 18.04.5 LTS\n"
          ],
          "name": "stdout"
        }
      ]
    },
    {
      "cell_type": "markdown",
      "metadata": {
        "id": "PjE-daw7LQp7"
      },
      "source": [
        "**CPU Info:**"
      ]
    },
    {
      "cell_type": "code",
      "metadata": {
        "colab": {
          "base_uri": "https://localhost:8080/"
        },
        "id": "mfV0eM6wEZps",
        "outputId": "9efcb175-ffb0-4ad3-f810-23a56308c382"
      },
      "source": [
        "!lscpu"
      ],
      "execution_count": null,
      "outputs": [
        {
          "output_type": "stream",
          "text": [
            "Architecture:        x86_64\n",
            "CPU op-mode(s):      32-bit, 64-bit\n",
            "Byte Order:          Little Endian\n",
            "CPU(s):              4\n",
            "On-line CPU(s) list: 0-3\n",
            "Thread(s) per core:  2\n",
            "Core(s) per socket:  2\n",
            "Socket(s):           1\n",
            "NUMA node(s):        1\n",
            "Vendor ID:           AuthenticAMD\n",
            "CPU family:          23\n",
            "Model:               49\n",
            "Model name:          AMD EPYC 7B12\n",
            "Stepping:            0\n",
            "CPU MHz:             2249.998\n",
            "BogoMIPS:            4499.99\n",
            "Hypervisor vendor:   KVM\n",
            "Virtualization type: full\n",
            "L1d cache:           32K\n",
            "L1i cache:           32K\n",
            "L2 cache:            512K\n",
            "L3 cache:            16384K\n",
            "NUMA node0 CPU(s):   0-3\n",
            "Flags:               fpu vme de pse tsc msr pae mce cx8 apic sep mtrr pge mca cmov pat pse36 clflush mmx fxsr sse sse2 ht syscall nx mmxext fxsr_opt pdpe1gb rdtscp lm constant_tsc rep_good nopl nonstop_tsc cpuid extd_apicid tsc_known_freq pni pclmulqdq ssse3 fma cx16 sse4_1 sse4_2 movbe popcnt aes xsave avx f16c rdrand hypervisor lahf_lm cmp_legacy cr8_legacy abm sse4a misalignsse 3dnowprefetch osvw topoext ssbd ibrs ibpb stibp vmmcall fsgsbase tsc_adjust bmi1 avx2 smep bmi2 rdseed adx smap clflushopt clwb sha_ni xsaveopt xsavec xgetbv1 clzero xsaveerptr arat npt nrip_save umip rdpid\n"
          ],
          "name": "stdout"
        }
      ]
    },
    {
      "cell_type": "markdown",
      "metadata": {
        "id": "jO63fpZtLVB3"
      },
      "source": [
        "**RAM size:**"
      ]
    },
    {
      "cell_type": "code",
      "metadata": {
        "colab": {
          "base_uri": "https://localhost:8080/"
        },
        "id": "r3ZvqOwmCuDj",
        "outputId": "a4cf010c-ea5f-4390-ccc2-639849bcc642"
      },
      "source": [
        "!grep MemTotal /proc/meminfo"
      ],
      "execution_count": null,
      "outputs": [
        {
          "output_type": "stream",
          "text": [
            "MemTotal:       26698868 kB\n"
          ],
          "name": "stdout"
        }
      ]
    },
    {
      "cell_type": "markdown",
      "metadata": {
        "id": "6haCygRBLYq6"
      },
      "source": [
        "**GPU info:**"
      ]
    },
    {
      "cell_type": "code",
      "metadata": {
        "colab": {
          "base_uri": "https://localhost:8080/"
        },
        "id": "Yv6zMtUhCm0h",
        "outputId": "d460444a-221e-401e-e203-de11fc7c4775"
      },
      "source": [
        "!nvidia-smi"
      ],
      "execution_count": null,
      "outputs": [
        {
          "output_type": "stream",
          "text": [
            "Sat Jun 19 12:10:57 2021       \n",
            "+-----------------------------------------------------------------------------+\n",
            "| NVIDIA-SMI 465.27       Driver Version: 460.32.03    CUDA Version: 11.2     |\n",
            "|-------------------------------+----------------------+----------------------+\n",
            "| GPU  Name        Persistence-M| Bus-Id        Disp.A | Volatile Uncorr. ECC |\n",
            "| Fan  Temp  Perf  Pwr:Usage/Cap|         Memory-Usage | GPU-Util  Compute M. |\n",
            "|                               |                      |               MIG M. |\n",
            "|===============================+======================+======================|\n",
            "|   0  Tesla T4            Off  | 00000000:00:04.0 Off |                    0 |\n",
            "| N/A   44C    P8    10W /  70W |      0MiB / 15109MiB |      0%      Default |\n",
            "|                               |                      |                  N/A |\n",
            "+-------------------------------+----------------------+----------------------+\n",
            "                                                                               \n",
            "+-----------------------------------------------------------------------------+\n",
            "| Processes:                                                                  |\n",
            "|  GPU   GI   CI        PID   Type   Process name                  GPU Memory |\n",
            "|        ID   ID                                                   Usage      |\n",
            "|=============================================================================|\n",
            "|  No running processes found                                                 |\n",
            "+-----------------------------------------------------------------------------+\n"
          ],
          "name": "stdout"
        }
      ]
    },
    {
      "cell_type": "markdown",
      "metadata": {
        "id": "gD0vwG31ROMC"
      },
      "source": [
        "# GPU connection check"
      ]
    },
    {
      "cell_type": "code",
      "metadata": {
        "colab": {
          "base_uri": "https://localhost:8080/"
        },
        "id": "0A5e-lkauNlL",
        "outputId": "194601dc-4ef5-4d7c-f185-02b7ffaa4416"
      },
      "source": [
        "# Confirming that GPU is connected\n",
        "import tensorflow as tf\n",
        "device_name = tf.test.gpu_device_name()\n",
        "if device_name != '/device:GPU:0':\n",
        "  raise SystemError('GPU device not found')\n",
        "print('Found GPU at: {}'.format(device_name))"
      ],
      "execution_count": null,
      "outputs": [
        {
          "output_type": "stream",
          "text": [
            "Found GPU at: /device:GPU:0\n"
          ],
          "name": "stdout"
        }
      ]
    },
    {
      "cell_type": "code",
      "metadata": {
        "colab": {
          "base_uri": "https://localhost:8080/"
        },
        "id": "OdrdgWzlRU8E",
        "outputId": "d460444a-221e-401e-e203-de11fc7c4775"
      },
      "source": [
        "!nvidia-smi"
      ],
      "execution_count": null,
      "outputs": [
        {
          "output_type": "stream",
          "text": [
            "Sat Jun 19 12:10:57 2021       \n",
            "+-----------------------------------------------------------------------------+\n",
            "| NVIDIA-SMI 465.27       Driver Version: 460.32.03    CUDA Version: 11.2     |\n",
            "|-------------------------------+----------------------+----------------------+\n",
            "| GPU  Name        Persistence-M| Bus-Id        Disp.A | Volatile Uncorr. ECC |\n",
            "| Fan  Temp  Perf  Pwr:Usage/Cap|         Memory-Usage | GPU-Util  Compute M. |\n",
            "|                               |                      |               MIG M. |\n",
            "|===============================+======================+======================|\n",
            "|   0  Tesla T4            Off  | 00000000:00:04.0 Off |                    0 |\n",
            "| N/A   44C    P8    10W /  70W |      0MiB / 15109MiB |      0%      Default |\n",
            "|                               |                      |                  N/A |\n",
            "+-------------------------------+----------------------+----------------------+\n",
            "                                                                               \n",
            "+-----------------------------------------------------------------------------+\n",
            "| Processes:                                                                  |\n",
            "|  GPU   GI   CI        PID   Type   Process name                  GPU Memory |\n",
            "|        ID   ID                                                   Usage      |\n",
            "|=============================================================================|\n",
            "|  No running processes found                                                 |\n",
            "+-----------------------------------------------------------------------------+\n"
          ],
          "name": "stdout"
        }
      ]
    },
    {
      "cell_type": "markdown",
      "metadata": {
        "id": "4oLcEakmOFjG"
      },
      "source": [
        "# tf.data.Dataset from generator"
      ]
    },
    {
      "cell_type": "code",
      "metadata": {
        "colab": {
          "base_uri": "https://localhost:8080/",
          "height": 297
        },
        "id": "Q1FH2hEfOs1v",
        "outputId": "8c32dca5-8e00-42b9-a6da-eb820550fba9"
      },
      "source": [
        "# https://www.tensorflow.org/api_docs/python/tf/data/Dataset\n",
        "# https://www.srijan.net/resources/blog/building-a-high-performance-data-pipeline-with-tensorflow\n",
        "# codebasics tf.data part-1: https://youtu.be/VFEOskzhhbc\n",
        "# codebasics tf.data part-2: https://youtu.be/MLEKEplgCas\n",
        "# aaic tf.data: https://youtu.be/mKMYneSIvLQ?t=553\n",
        "import tensorflow as tf\n",
        "from tensorflow.keras.layers import Dense,Input,InputLayer\n",
        "import numpy as np\n",
        "import pandas as pd\n",
        "dataset = pd.DataFrame(data={'eval_set':['train','train','train','train','train','val','val','val'],\n",
        "                             'ftr1':[1,2,3,4,5,6,7,8],\n",
        "                             'ftr2':[10,11,12,13,14,15,16,17],\n",
        "                             'target':[9,8,7,6,5,4,3,2]})\n",
        "ftrs = ['ftr1','ftr2']\n",
        "target = ['target']\n",
        "dataset"
      ],
      "execution_count": null,
      "outputs": [
        {
          "output_type": "execute_result",
          "data": {
            "text/html": [
              "<div>\n",
              "<style scoped>\n",
              "    .dataframe tbody tr th:only-of-type {\n",
              "        vertical-align: middle;\n",
              "    }\n",
              "\n",
              "    .dataframe tbody tr th {\n",
              "        vertical-align: top;\n",
              "    }\n",
              "\n",
              "    .dataframe thead th {\n",
              "        text-align: right;\n",
              "    }\n",
              "</style>\n",
              "<table border=\"1\" class=\"dataframe\">\n",
              "  <thead>\n",
              "    <tr style=\"text-align: right;\">\n",
              "      <th></th>\n",
              "      <th>eval_set</th>\n",
              "      <th>ftr1</th>\n",
              "      <th>ftr2</th>\n",
              "      <th>target</th>\n",
              "    </tr>\n",
              "  </thead>\n",
              "  <tbody>\n",
              "    <tr>\n",
              "      <th>0</th>\n",
              "      <td>train</td>\n",
              "      <td>1</td>\n",
              "      <td>10</td>\n",
              "      <td>9</td>\n",
              "    </tr>\n",
              "    <tr>\n",
              "      <th>1</th>\n",
              "      <td>train</td>\n",
              "      <td>2</td>\n",
              "      <td>11</td>\n",
              "      <td>8</td>\n",
              "    </tr>\n",
              "    <tr>\n",
              "      <th>2</th>\n",
              "      <td>train</td>\n",
              "      <td>3</td>\n",
              "      <td>12</td>\n",
              "      <td>7</td>\n",
              "    </tr>\n",
              "    <tr>\n",
              "      <th>3</th>\n",
              "      <td>train</td>\n",
              "      <td>4</td>\n",
              "      <td>13</td>\n",
              "      <td>6</td>\n",
              "    </tr>\n",
              "    <tr>\n",
              "      <th>4</th>\n",
              "      <td>train</td>\n",
              "      <td>5</td>\n",
              "      <td>14</td>\n",
              "      <td>5</td>\n",
              "    </tr>\n",
              "    <tr>\n",
              "      <th>5</th>\n",
              "      <td>val</td>\n",
              "      <td>6</td>\n",
              "      <td>15</td>\n",
              "      <td>4</td>\n",
              "    </tr>\n",
              "    <tr>\n",
              "      <th>6</th>\n",
              "      <td>val</td>\n",
              "      <td>7</td>\n",
              "      <td>16</td>\n",
              "      <td>3</td>\n",
              "    </tr>\n",
              "    <tr>\n",
              "      <th>7</th>\n",
              "      <td>val</td>\n",
              "      <td>8</td>\n",
              "      <td>17</td>\n",
              "      <td>2</td>\n",
              "    </tr>\n",
              "  </tbody>\n",
              "</table>\n",
              "</div>"
            ],
            "text/plain": [
              "  eval_set  ftr1  ftr2  target\n",
              "0    train     1    10       9\n",
              "1    train     2    11       8\n",
              "2    train     3    12       7\n",
              "3    train     4    13       6\n",
              "4    train     5    14       5\n",
              "5      val     6    15       4\n",
              "6      val     7    16       3\n",
              "7      val     8    17       2"
            ]
          },
          "metadata": {
            "tags": []
          },
          "execution_count": 1
        }
      ]
    },
    {
      "cell_type": "code",
      "metadata": {
        "id": "_QDMIV9K6WMQ"
      },
      "source": [
        "# tf_dataset_tr = tf.data.Dataset.from_tensor_slices(dataset.loc[dataset.eval_set=='train',ftrs])\n",
        "# taking lot of RAM for big dataframe"
      ],
      "execution_count": null,
      "outputs": []
    },
    {
      "cell_type": "code",
      "metadata": {
        "id": "TaZGwtefQ4m0"
      },
      "source": [
        "def data_generator_tr():\n",
        "    '''Construct a data generator for tf.data.Dataset'''\n",
        "    data = dataset.loc[dataset.eval_set=='train',(ftrs+target)]\n",
        "    for row in data.itertuples(index=False, name=None):\n",
        "        yield (row[:-1],(row[-1],)) # tuple of ftrs and target"
      ],
      "execution_count": null,
      "outputs": []
    },
    {
      "cell_type": "code",
      "metadata": {
        "id": "xH0Qdv3slBfQ"
      },
      "source": [
        "def data_generator_cv():\n",
        "    '''Construct a data generator for tf.data.Dataset'''\n",
        "    data = dataset.loc[dataset.eval_set=='val',(ftrs+target)]\n",
        "    for row in data.itertuples(index=False, name=None):\n",
        "        yield (row[:-1],(row[-1],)) # tuple of ftrs and target"
      ],
      "execution_count": null,
      "outputs": []
    },
    {
      "cell_type": "code",
      "metadata": {
        "colab": {
          "base_uri": "https://localhost:8080/"
        },
        "id": "Z2YdlG0YV-al",
        "outputId": "abb55233-094f-4a5c-d14d-1ebe28422076"
      },
      "source": [
        "next(data_gen_tr)   # reset generator by running the previous cell after seeing the output"
      ],
      "execution_count": null,
      "outputs": [
        {
          "output_type": "execute_result",
          "data": {
            "text/plain": [
              "((1, 10), (9,))"
            ]
          },
          "metadata": {
            "tags": []
          },
          "execution_count": 4
        }
      ]
    },
    {
      "cell_type": "code",
      "metadata": {
        "id": "ahSZWfL_SPDr"
      },
      "source": [
        "ftr_len = len(ftrs)\n",
        "target_len = len(target)"
      ],
      "execution_count": null,
      "outputs": []
    },
    {
      "cell_type": "code",
      "metadata": {
        "id": "hjePaBHkTI5L"
      },
      "source": [
        "# tf.data.Dataset for training data\n",
        "tf_data_tr = tf.data.Dataset.from_generator(data_generator_tr,\n",
        "                                            # output_signature must be a tuple of 2 tf.TypeSpec objects one for ftrs and other for target.\n",
        "                                            output_signature=(tf.TensorSpec(shape=(ftr_len,), dtype=tf.float64),\n",
        "                                                               tf.TensorSpec(shape=(target_len,), dtype=tf.float64))\n",
        "                                            )"
      ],
      "execution_count": null,
      "outputs": []
    },
    {
      "cell_type": "code",
      "metadata": {
        "id": "In_W99XjliR5"
      },
      "source": [
        "# tf.data.Dataset for validation data\n",
        "tf_data_cv = tf.data.Dataset.from_generator(data_generator_cv,\n",
        "                                            output_signature=(tf.TensorSpec(shape=(ftr_len,), dtype=tf.float64),\n",
        "                                                               tf.TensorSpec(shape=(target_len,), dtype=tf.float64))\n",
        "                                            )"
      ],
      "execution_count": null,
      "outputs": []
    },
    {
      "cell_type": "code",
      "metadata": {
        "colab": {
          "base_uri": "https://localhost:8080/"
        },
        "id": "HHi5xQy85-1b",
        "outputId": "79436002-5ecd-4f6f-d27b-2f17ddd3d587"
      },
      "source": [
        "for i,ele in enumerate(tf_data_tr.take(2)):\n",
        "    print(ele)\n",
        "# reset generator by running the `generator object creation cell` after seeing the output."
      ],
      "execution_count": null,
      "outputs": [
        {
          "output_type": "stream",
          "text": [
            "(<tf.Tensor: shape=(2,), dtype=float64, numpy=array([ 1., 10.])>, <tf.Tensor: shape=(1,), dtype=float64, numpy=array([9.])>)\n",
            "(<tf.Tensor: shape=(2,), dtype=float64, numpy=array([ 2., 11.])>, <tf.Tensor: shape=(1,), dtype=float64, numpy=array([8.])>)\n"
          ],
          "name": "stdout"
        }
      ]
    },
    {
      "cell_type": "code",
      "metadata": {
        "id": "MCa0ZIkEX8xu"
      },
      "source": [
        "def identity(ftr,target):\n",
        "    '''Identity function.'''\n",
        "    transformed_ftr = ftr   # no transformation\n",
        "    return transformed_ftr, target\n",
        "\n",
        "train_len = (dataset.eval_set=='train').sum()\n",
        "cv_len = (dataset.eval_set=='val').sum()\n",
        "\n",
        "batch_size_tr = 2\n",
        "batch_size_cv = 2\n",
        "epochs = 10\n",
        "steps_per_epoch = np.ceil(train_len/batch_size_tr) \n",
        "validation_steps = np.ceil(cv_len/batch_size_cv)   \n",
        "\n",
        "# meaning of this values will be explained in the next cell.\n",
        "count = np.ceil((steps_per_epoch * epochs * batch_size_tr) / train_len)    # repeat count for train data"
      ],
      "execution_count": null,
      "outputs": []
    },
    {
      "cell_type": "code",
      "metadata": {
        "id": "d11caqQgWqP3"
      },
      "source": [
        "tf_data_tr =  (\n",
        "    tf_data_tr.map(identity,num_parallel_calls=tf.data.AUTOTUNE) # to perform feature transformations.\n",
        "                .cache(filename='tf-data')  # To store the preprocessed data after first epoch so that it is not\n",
        "                                            # preprocessed again and again in every epoch.\n",
        "                                            # Note:- if map() method produces random output every time then it should be after cache().\n",
        "                    .map(identity,num_parallel_calls=tf.data.AUTOTUNE) # to perform feature transformations that have some randomness to it.\n",
        "                    .shuffle(buffer_size=train_len) # shuffles the data\n",
        "                                                    # https://stackoverflow.com/questions/53514495/what-does-batch-repeat-and-shuffle-do-with-tensorflow-dataset\n",
        "                                                    # buffer_size: the larger the better. \n",
        "                                                    # Should be <= length of training data.\n",
        "                                                    # should always be after cache() https://www.tensorflow.org/api_docs/python/tf/data/Dataset#:~:text=call%20shuffle%20after%20calling%20cache.                    \n",
        "                        .batch(batch_size_tr, drop_remainder=False,num_parallel_calls=tf.data.AUTOTUNE)\n",
        "                        .repeat(count)  # duplicates the data `count` times.\n",
        "                                        # count should be atleast ((steps_per_epoch * epoch * batch_size) / training dataset length)\n",
        "                                        # because model.fit is expecting data at least (steps_per_epoch * epoch) batches of training data.\n",
        "                            .prefetch(tf.data.AUTOTUNE) # to make sure that GPU is training the model and CPU is processing\n",
        "                                                        # the next batch of data simultaneously so that GPU doesn't have to\n",
        "                                                        # wait for the next batch of processed data. Hence making the \n",
        "                                                        # process much faster.\n",
        ")\n",
        "# NOTE: The order of methods in the above pipeline is very important.\n",
        "#       methods at same level can be used before or after each other.\n",
        "#       methods indented inside another method should only be used after it.\n",
        "#       eg: shuffle() should only be used before batch() and repeat()\n",
        "\n",
        "\n",
        "# similarly create one for validation data also.\n",
        "# .repeat(...) method doesn't make sense for cross-validation data.\n",
        "tf_data_cv =  (\n",
        "    tf_data_cv.map(identity,num_parallel_calls=tf.data.AUTOTUNE) # to perform feature transformations.\n",
        "                .cache(filename='tf-data-cv')   # To store the preprocessed data after first epoch so that it is not\n",
        "                                                # preprocessed again and again in every epoch.\n",
        "                                                # Note:- if map() method produces random output every time then it should be after cache().\n",
        "                    .map(identity,num_parallel_calls=tf.data.AUTOTUNE) # to perform feature transformations that have some randomness to it.\n",
        "                    .shuffle(buffer_size=cv_len)# shuffles the data\n",
        "                                                # https://stackoverflow.com/questions/53514495/what-does-batch-repeat-and-shuffle-do-with-tensorflow-dataset\n",
        "                                                # buffer_size: the larger the better. \n",
        "                                                # Should be <= length of validation data.\n",
        "                                                # should always be after cache() https://www.tensorflow.org/api_docs/python/tf/data/Dataset#:~:text=call%20shuffle%20after%20calling%20cache.              \n",
        "                        .batch(batch_size_cv, drop_remainder=False,num_parallel_calls=tf.data.AUTOTUNE)                        \n",
        "                            .prefetch(tf.data.AUTOTUNE) # to make sure that GPU is training the model and CPU is processing\n",
        "                                                        # the next batch of data simultaneously so that GPU doesn't have to\n",
        "                                                        # wait for the next batch of processed data. Hence making the \n",
        "                                                        # process much faster.\n",
        ")"
      ],
      "execution_count": null,
      "outputs": []
    },
    {
      "cell_type": "markdown",
      "metadata": {
        "id": "mBoExOsvH9Ue"
      },
      "source": [
        "<pre>\n",
        "1. The order is important.\n",
        "\n",
        "  - A <b>shuffle</b> after a <b>repeat</b> would shuffle items across epoch boundaries \n",
        "  (some items will be seen twice before others are seen at all).\n",
        "  - A <b>shuffle</b> after a <b>batch</b> would shuffle the order of the batches, \n",
        "  but not shuffle the items across batches.\n",
        "\n",
        "2. We use a <b>buffer_size</b> the same size as the dataset for a full shuffle. \n",
        "Up to the dataset size, large values provide better randomization, but use more memory.\n",
        "\n",
        "3. The shuffle buffer is filled before any elements are pulled from it. \n",
        "So a large <b>buffer_size</b> may cause a delay when your Dataset is starting.\n",
        "\n",
        "</pre>"
      ]
    },
    {
      "cell_type": "code",
      "metadata": {
        "colab": {
          "base_uri": "https://localhost:8080/"
        },
        "id": "za5fBtFbjsij",
        "outputId": "705eaa14-0420-475c-a97f-5f238621f63a"
      },
      "source": [
        "model = tf.keras.Sequential([\n",
        "        InputLayer(input_shape=(2,),name='l0'),                                 \n",
        "        Dense(1,activation='relu',name='l1')], name='model')\n",
        "\n",
        "model.compile(optimizer='adam', loss=tf.keras.losses.MeanSquaredError())\n",
        "\n",
        "model.fit(x = tf_data_tr,\n",
        "          validation_data = tf_data_cv,\n",
        "          epochs = epochs,\n",
        "          steps_per_epoch = steps_per_epoch,\n",
        "          validation_steps = validation_steps,\n",
        "          verbose=1,\n",
        "          use_multiprocessing=True,\n",
        "          workers=4\n",
        "        )"
      ],
      "execution_count": null,
      "outputs": [
        {
          "output_type": "stream",
          "text": [
            "Epoch 1/10\n",
            "3/3 [==============================] - 0s 29ms/step - loss: 24.5510 - val_loss: 1.0300\n",
            "Epoch 2/10\n",
            "3/3 [==============================] - 0s 8ms/step - loss: 24.1151 - val_loss: 0.9629\n",
            "Epoch 3/10\n",
            "3/3 [==============================] - 0s 8ms/step - loss: 23.7091 - val_loss: 0.9061\n",
            "Epoch 4/10\n",
            "3/3 [==============================] - 0s 8ms/step - loss: 23.2865 - val_loss: 0.8599\n",
            "Epoch 5/10\n",
            "3/3 [==============================] - 0s 8ms/step - loss: 22.8889 - val_loss: 0.8237\n",
            "Epoch 6/10\n",
            "3/3 [==============================] - 0s 8ms/step - loss: 22.4915 - val_loss: 0.7979\n",
            "Epoch 7/10\n",
            "3/3 [==============================] - 0s 7ms/step - loss: 22.0752 - val_loss: 0.7821\n",
            "Epoch 8/10\n",
            "3/3 [==============================] - 0s 8ms/step - loss: 21.6961 - val_loss: 0.7760\n",
            "Epoch 9/10\n",
            "3/3 [==============================] - 0s 8ms/step - loss: 21.3068 - val_loss: 0.7796\n",
            "Epoch 10/10\n",
            "3/3 [==============================] - 0s 9ms/step - loss: 20.9363 - val_loss: 0.7930\n"
          ],
          "name": "stdout"
        },
        {
          "output_type": "execute_result",
          "data": {
            "text/plain": [
              "<tensorflow.python.keras.callbacks.History at 0x7fdb542cd090>"
            ]
          },
          "metadata": {
            "tags": []
          },
          "execution_count": 11
        }
      ]
    }
  ]
}